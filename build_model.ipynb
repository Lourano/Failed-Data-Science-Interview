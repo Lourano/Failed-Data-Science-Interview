{
 "cells": [
  {
   "cell_type": "code",
   "execution_count": 103,
   "metadata": {},
   "outputs": [],
   "source": [
    "import matplotlib.pyplot as plt\n",
    "import seaborn as sns\n",
    "import pandas as pd\n",
    "import numpy as np\n",
    "\n",
    "%matplotlib inline"
   ]
  },
  {
   "cell_type": "code",
   "execution_count": 104,
   "metadata": {},
   "outputs": [],
   "source": [
    "train1 = pd.read_csv('train_for_y1.csv')\n",
    "train2 = pd.read_csv('train_for_y2.csv')\n",
    "train3 = pd.read_csv('train_for_y3.csv')\n",
    "train4 = pd.read_csv('train_for_y4.csv')\n",
    "train5 = pd.read_csv('train_for_y5.csv')\n",
    "test = pd.read_csv('test_finished.csv')"
   ]
  },
  {
   "cell_type": "code",
   "execution_count": 105,
   "metadata": {},
   "outputs": [],
   "source": [
    "train1_Y = train1.TargetPrice\n",
    "train1_X = train1.drop(['TargetPrice'], axis = 1)\n",
    "train2_Y = train2.TargetPrice\n",
    "train2_X = train2.drop(['TargetPrice'], axis = 1)\n",
    "train3_Y = train3.TargetPrice\n",
    "train3_X = train3.drop(['TargetPrice'], axis = 1)\n",
    "train4_Y = train4.TargetPrice\n",
    "train4_X = train4.drop(['TargetPrice'], axis = 1)\n",
    "train5_Y = train5.TargetPrice\n",
    "train5_X = train5.drop(['TargetPrice'], axis = 1)"
   ]
  },
  {
   "cell_type": "code",
   "execution_count": 106,
   "metadata": {},
   "outputs": [],
   "source": [
    "def linear_regression(X, Y):\n",
    "    print('Start')\n",
    "    X['intercept'] = 1\n",
    "    X_transposed = X.T\n",
    "    X_muli_Xt = X_transposed.dot(X)\n",
    "    print(X_muli_Xt.shape)\n",
    "    X_muli_Xt_inv = np.linalg.inv(X_muli_Xt)\n",
    "    X_muli_Xt_inv_multi_Xt = np.dot(X_muli_Xt_inv, X.T)\n",
    "    print(X_muli_Xt_inv_multi_Xt.shape)\n",
    "    coefs = np.dot(X_muli_Xt_inv_multi_Xt, Y)\n",
    "    print('End')\n",
    "    return coefs"
   ]
  },
  {
   "cell_type": "code",
   "execution_count": 107,
   "metadata": {},
   "outputs": [
    {
     "name": "stdout",
     "output_type": "stream",
     "text": [
      "Start\n",
      "(17, 17)\n",
      "(17, 107)\n",
      "End\n",
      "Start\n",
      "(17, 17)\n",
      "(17, 107)\n",
      "End\n",
      "Start\n",
      "(17, 17)\n",
      "(17, 107)\n",
      "End\n",
      "Start\n",
      "(17, 17)\n",
      "(17, 107)\n",
      "End\n",
      "Start\n",
      "(17, 17)\n",
      "(17, 107)\n",
      "End\n"
     ]
    }
   ],
   "source": [
    "coefs1 = linear_regression(train1_X, train1_Y)\n",
    "coefs2 = linear_regression(train2_X, train2_Y)\n",
    "coefs3 = linear_regression(train3_X, train3_Y)\n",
    "coefs4 = linear_regression(train4_X, train4_Y)\n",
    "coefs5 = linear_regression(train5_X, train5_Y)"
   ]
  },
  {
   "cell_type": "code",
   "execution_count": 108,
   "metadata": {},
   "outputs": [],
   "source": [
    "def predict(train_X, coefs):\n",
    "    train_Y_TEST = train_X.Bid_Price_min * coefs[0] + \\\n",
    "                    train_X.Bid_Shares_min * coefs[1] + \\\n",
    "                    train_X.Ask_Price_min * coefs[2] + \\\n",
    "                    train_X.Ask_Shares_min * coefs[3] + \\\n",
    "                    train_X.FeatureShares2_min * coefs[4] + \\\n",
    "                    train_X.FeatureShares2_max * coefs[5] + \\\n",
    "                    train_X['0'] * coefs[6] + \\\n",
    "                    train_X['1'] * coefs[7] + \\\n",
    "                    train_X['2'] * coefs[8] + \\\n",
    "                    train_X['3'] * coefs[9] + \\\n",
    "                    train_X['4'] * coefs[10] + \\\n",
    "                    train_X['5'] * coefs[11] + \\\n",
    "                    train_X['6'] * coefs[12] + \\\n",
    "                    train_X['7'] * coefs[13] + \\\n",
    "                    train_X['8'] * coefs[14] + \\\n",
    "                    train_X['8'] * coefs[15] + \\\n",
    "                    coefs[16]\n",
    "    return train_Y_TEST"
   ]
  },
  {
   "cell_type": "code",
   "execution_count": 109,
   "metadata": {},
   "outputs": [],
   "source": [
    "preds1 = predict(train1_X, coefs1)\n",
    "preds2 = predict(train2_X, coefs2)\n",
    "preds3 = predict(train3_X, coefs3)\n",
    "preds4 = predict(train4_X, coefs4)\n",
    "preds5 = predict(train5_X, coefs5)"
   ]
  },
  {
   "cell_type": "code",
   "execution_count": 121,
   "metadata": {},
   "outputs": [],
   "source": [
    "def error(train_Y, preds):\n",
    "    return sum(abs((train_Y - preds))) / train_Y.shape[0]"
   ]
  },
  {
   "cell_type": "code",
   "execution_count": 122,
   "metadata": {},
   "outputs": [
    {
     "name": "stdout",
     "output_type": "stream",
     "text": [
      "Min pred train error: 0.0098376490030546\n",
      "Max pred train error: 34.776421703537224\n",
      "Sum pred train error: 75.93865165631111\n",
      "STD pred train error: 3.5746422576452925\n",
      "Mean pred train error: 0.6056195060220078\n"
     ]
    }
   ],
   "source": [
    "print('Min pred train error:', error(train1_Y, preds1))\n",
    "print('Max pred train error:', error(train2_Y, preds2))\n",
    "print('Sum pred train error:', error(train3_Y, preds3))\n",
    "print('STD pred train error:', error(train4_Y, preds4))\n",
    "print('Mean pred train error:', error(train5_Y, preds5))"
   ]
  },
  {
   "cell_type": "code",
   "execution_count": 112,
   "metadata": {},
   "outputs": [
    {
     "data": {
      "text/html": [
       "<div>\n",
       "<style scoped>\n",
       "    .dataframe tbody tr th:only-of-type {\n",
       "        vertical-align: middle;\n",
       "    }\n",
       "\n",
       "    .dataframe tbody tr th {\n",
       "        vertical-align: top;\n",
       "    }\n",
       "\n",
       "    .dataframe thead th {\n",
       "        text-align: right;\n",
       "    }\n",
       "</style>\n",
       "<table border=\"1\" class=\"dataframe\">\n",
       "  <thead>\n",
       "    <tr style=\"text-align: right;\">\n",
       "      <th></th>\n",
       "      <th>real1</th>\n",
       "      <th>preds1</th>\n",
       "      <th>real2</th>\n",
       "      <th>preds2</th>\n",
       "      <th>real3</th>\n",
       "      <th>preds3</th>\n",
       "      <th>real4</th>\n",
       "      <th>preds4</th>\n",
       "      <th>real5</th>\n",
       "      <th>preds5</th>\n",
       "    </tr>\n",
       "  </thead>\n",
       "  <tbody>\n",
       "    <tr>\n",
       "      <td>0</td>\n",
       "      <td>0.1200</td>\n",
       "      <td>0.108907</td>\n",
       "      <td>1323.00</td>\n",
       "      <td>1391.722654</td>\n",
       "      <td>8092.3761</td>\n",
       "      <td>7955.944033</td>\n",
       "      <td>154.489774</td>\n",
       "      <td>147.828048</td>\n",
       "      <td>59.068439</td>\n",
       "      <td>59.944215</td>\n",
       "    </tr>\n",
       "    <tr>\n",
       "      <td>1</td>\n",
       "      <td>0.0700</td>\n",
       "      <td>0.091324</td>\n",
       "      <td>1333.67</td>\n",
       "      <td>1274.206117</td>\n",
       "      <td>9416.3020</td>\n",
       "      <td>9475.393972</td>\n",
       "      <td>146.364221</td>\n",
       "      <td>151.016809</td>\n",
       "      <td>59.596848</td>\n",
       "      <td>58.611162</td>\n",
       "    </tr>\n",
       "    <tr>\n",
       "      <td>2</td>\n",
       "      <td>0.0700</td>\n",
       "      <td>0.068655</td>\n",
       "      <td>1328.89</td>\n",
       "      <td>1382.772625</td>\n",
       "      <td>9729.2624</td>\n",
       "      <td>9886.017586</td>\n",
       "      <td>129.628372</td>\n",
       "      <td>133.723919</td>\n",
       "      <td>48.646312</td>\n",
       "      <td>49.686704</td>\n",
       "    </tr>\n",
       "    <tr>\n",
       "      <td>3</td>\n",
       "      <td>0.0800</td>\n",
       "      <td>0.092456</td>\n",
       "      <td>1359.88</td>\n",
       "      <td>1301.109416</td>\n",
       "      <td>8411.0966</td>\n",
       "      <td>8490.045919</td>\n",
       "      <td>139.521750</td>\n",
       "      <td>144.935145</td>\n",
       "      <td>54.974488</td>\n",
       "      <td>53.786511</td>\n",
       "    </tr>\n",
       "    <tr>\n",
       "      <td>4</td>\n",
       "      <td>0.1050</td>\n",
       "      <td>0.108044</td>\n",
       "      <td>757.91</td>\n",
       "      <td>753.230784</td>\n",
       "      <td>6649.1582</td>\n",
       "      <td>6614.015653</td>\n",
       "      <td>100.012764</td>\n",
       "      <td>100.298064</td>\n",
       "      <td>45.232369</td>\n",
       "      <td>44.723459</td>\n",
       "    </tr>\n",
       "    <tr>\n",
       "      <td>...</td>\n",
       "      <td>...</td>\n",
       "      <td>...</td>\n",
       "      <td>...</td>\n",
       "      <td>...</td>\n",
       "      <td>...</td>\n",
       "      <td>...</td>\n",
       "      <td>...</td>\n",
       "      <td>...</td>\n",
       "      <td>...</td>\n",
       "      <td>...</td>\n",
       "    </tr>\n",
       "    <tr>\n",
       "      <td>102</td>\n",
       "      <td>0.0800</td>\n",
       "      <td>0.088839</td>\n",
       "      <td>805.22</td>\n",
       "      <td>770.301990</td>\n",
       "      <td>7636.3522</td>\n",
       "      <td>7731.462679</td>\n",
       "      <td>95.929423</td>\n",
       "      <td>98.783670</td>\n",
       "      <td>45.185516</td>\n",
       "      <td>44.990704</td>\n",
       "    </tr>\n",
       "    <tr>\n",
       "      <td>103</td>\n",
       "      <td>0.1900</td>\n",
       "      <td>0.180553</td>\n",
       "      <td>783.89</td>\n",
       "      <td>776.185994</td>\n",
       "      <td>9525.2983</td>\n",
       "      <td>9494.139182</td>\n",
       "      <td>105.673400</td>\n",
       "      <td>105.540369</td>\n",
       "      <td>52.918324</td>\n",
       "      <td>52.742694</td>\n",
       "    </tr>\n",
       "    <tr>\n",
       "      <td>104</td>\n",
       "      <td>0.1200</td>\n",
       "      <td>0.120457</td>\n",
       "      <td>784.52</td>\n",
       "      <td>775.712396</td>\n",
       "      <td>8886.7205</td>\n",
       "      <td>8859.139156</td>\n",
       "      <td>85.244404</td>\n",
       "      <td>84.107395</td>\n",
       "      <td>42.317717</td>\n",
       "      <td>42.316524</td>\n",
       "    </tr>\n",
       "    <tr>\n",
       "      <td>105</td>\n",
       "      <td>0.1500</td>\n",
       "      <td>0.071277</td>\n",
       "      <td>768.77</td>\n",
       "      <td>882.760343</td>\n",
       "      <td>7324.1049</td>\n",
       "      <td>7585.104051</td>\n",
       "      <td>85.297784</td>\n",
       "      <td>95.706286</td>\n",
       "      <td>39.166336</td>\n",
       "      <td>39.504541</td>\n",
       "    </tr>\n",
       "    <tr>\n",
       "      <td>106</td>\n",
       "      <td>0.1499</td>\n",
       "      <td>0.141268</td>\n",
       "      <td>788.20</td>\n",
       "      <td>846.393688</td>\n",
       "      <td>8416.2818</td>\n",
       "      <td>8326.421670</td>\n",
       "      <td>120.140880</td>\n",
       "      <td>114.127443</td>\n",
       "      <td>52.932590</td>\n",
       "      <td>54.112030</td>\n",
       "    </tr>\n",
       "  </tbody>\n",
       "</table>\n",
       "<p>107 rows × 10 columns</p>\n",
       "</div>"
      ],
      "text/plain": [
       "      real1    preds1    real2       preds2      real3       preds3  \\\n",
       "0    0.1200  0.108907  1323.00  1391.722654  8092.3761  7955.944033   \n",
       "1    0.0700  0.091324  1333.67  1274.206117  9416.3020  9475.393972   \n",
       "2    0.0700  0.068655  1328.89  1382.772625  9729.2624  9886.017586   \n",
       "3    0.0800  0.092456  1359.88  1301.109416  8411.0966  8490.045919   \n",
       "4    0.1050  0.108044   757.91   753.230784  6649.1582  6614.015653   \n",
       "..      ...       ...      ...          ...        ...          ...   \n",
       "102  0.0800  0.088839   805.22   770.301990  7636.3522  7731.462679   \n",
       "103  0.1900  0.180553   783.89   776.185994  9525.2983  9494.139182   \n",
       "104  0.1200  0.120457   784.52   775.712396  8886.7205  8859.139156   \n",
       "105  0.1500  0.071277   768.77   882.760343  7324.1049  7585.104051   \n",
       "106  0.1499  0.141268   788.20   846.393688  8416.2818  8326.421670   \n",
       "\n",
       "          real4      preds4      real5     preds5  \n",
       "0    154.489774  147.828048  59.068439  59.944215  \n",
       "1    146.364221  151.016809  59.596848  58.611162  \n",
       "2    129.628372  133.723919  48.646312  49.686704  \n",
       "3    139.521750  144.935145  54.974488  53.786511  \n",
       "4    100.012764  100.298064  45.232369  44.723459  \n",
       "..          ...         ...        ...        ...  \n",
       "102   95.929423   98.783670  45.185516  44.990704  \n",
       "103  105.673400  105.540369  52.918324  52.742694  \n",
       "104   85.244404   84.107395  42.317717  42.316524  \n",
       "105   85.297784   95.706286  39.166336  39.504541  \n",
       "106  120.140880  114.127443  52.932590  54.112030  \n",
       "\n",
       "[107 rows x 10 columns]"
      ]
     },
     "execution_count": 112,
     "metadata": {},
     "output_type": "execute_result"
    }
   ],
   "source": [
    "for_testing = pd.DataFrame({'real1': train1_Y, 'preds1': preds1,\n",
    "                            'real2': train2_Y, 'preds2': preds2,\n",
    "                            'real3': train3_Y, 'preds3': preds3,\n",
    "                            'real4': train4_Y, 'preds4': preds4,\n",
    "                            'real5': train5_Y, 'preds5': preds5})\n",
    "for_testing"
   ]
  },
  {
   "cell_type": "code",
   "execution_count": 113,
   "metadata": {},
   "outputs": [
    {
     "data": {
      "text/plain": [
       "<matplotlib.legend.Legend at 0x7f8735227750>"
      ]
     },
     "execution_count": 113,
     "metadata": {},
     "output_type": "execute_result"
    },
    {
     "data": {
      "image/png": "[encoded data removed]",
      "text/plain": [
       "<Figure size 432x288 with 1 Axes>"
      ]
     },
     "metadata": {
      "needs_background": "light"
     },
     "output_type": "display_data"
    }
   ],
   "source": [
    "sns.distplot(for_testing.real1)\n",
    "sns.distplot(for_testing.preds1)\n",
    "plt.legend(['real1', 'pred1'])"
   ]
  },
  {
   "cell_type": "code",
   "execution_count": 114,
   "metadata": {},
   "outputs": [
    {
     "data": {
      "text/plain": [
       "<matplotlib.legend.Legend at 0x7f873525bad0>"
      ]
     },
     "execution_count": 114,
     "metadata": {},
     "output_type": "execute_result"
    },
    {
     "data": {
      "image/png": "[encoded data removed]",
      "text/plain": [
       "<Figure size 432x288 with 1 Axes>"
      ]
     },
     "metadata": {
      "needs_background": "light"
     },
     "output_type": "display_data"
    }
   ],
   "source": [
    "sns.distplot(for_testing.real2)\n",
    "sns.distplot(for_testing.preds2)\n",
    "plt.legend(['real2', 'pred2'])"
   ]
  },
  {
   "cell_type": "code",
   "execution_count": 115,
   "metadata": {},
   "outputs": [
    {
     "data": {
      "text/plain": [
       "<matplotlib.legend.Legend at 0x7f87354ca750>"
      ]
     },
     "execution_count": 115,
     "metadata": {},
     "output_type": "execute_result"
    },
    {
     "data": {
      "image/png": "[encoded data removed]",
      "text/plain": [
       "<Figure size 432x288 with 1 Axes>"
      ]
     },
     "metadata": {
      "needs_background": "light"
     },
     "output_type": "display_data"
    }
   ],
   "source": [
    "sns.distplot(for_testing.real3)\n",
    "sns.distplot(for_testing.preds3)\n",
    "plt.legend(['real3', 'pred3'])"
   ]
  },
  {
   "cell_type": "code",
   "execution_count": 116,
   "metadata": {},
   "outputs": [
    {
     "data": {
      "text/plain": [
       "<matplotlib.legend.Legend at 0x7f8735612790>"
      ]
     },
     "execution_count": 116,
     "metadata": {},
     "output_type": "execute_result"
    },
    {
     "data": {
      "image/png": "[encoded data removed]",
      "text/plain": [
       "<Figure size 432x288 with 1 Axes>"
      ]
     },
     "metadata": {
      "needs_background": "light"
     },
     "output_type": "display_data"
    }
   ],
   "source": [
    "sns.distplot(for_testing.real4)\n",
    "sns.distplot(for_testing.preds4)\n",
    "plt.legend(['real4', 'pred4'])"
   ]
  },
  {
   "cell_type": "code",
   "execution_count": 117,
   "metadata": {},
   "outputs": [
    {
     "data": {
      "text/plain": [
       "<matplotlib.legend.Legend at 0x7f8735789a90>"
      ]
     },
     "execution_count": 117,
     "metadata": {},
     "output_type": "execute_result"
    },
    {
     "data": {
      "image/png": "[encoded data removed]",
      "text/plain": [
       "<Figure size 432x288 with 1 Axes>"
      ]
     },
     "metadata": {
      "needs_background": "light"
     },
     "output_type": "display_data"
    }
   ],
   "source": [
    "sns.distplot(for_testing.real5)\n",
    "sns.distplot(for_testing.preds5)\n",
    "plt.legend(['real5', 'pred5'])"
   ]
  },
  {
   "cell_type": "code",
   "execution_count": 118,
   "metadata": {},
   "outputs": [],
   "source": [
    "test_y1 = predict(test, coefs1)\n",
    "test_y2 = predict(test, coefs2)\n",
    "test_y3 = predict(test, coefs3)\n",
    "test_y4 = predict(test, coefs4)\n",
    "test_y5 = predict(test, coefs5)"
   ]
  },
  {
   "cell_type": "code",
   "execution_count": 119,
   "metadata": {},
   "outputs": [
    {
     "data": {
      "text/html": [
       "<div>\n",
       "<style scoped>\n",
       "    .dataframe tbody tr th:only-of-type {\n",
       "        vertical-align: middle;\n",
       "    }\n",
       "\n",
       "    .dataframe tbody tr th {\n",
       "        vertical-align: top;\n",
       "    }\n",
       "\n",
       "    .dataframe thead th {\n",
       "        text-align: right;\n",
       "    }\n",
       "</style>\n",
       "<table border=\"1\" class=\"dataframe\">\n",
       "  <thead>\n",
       "    <tr style=\"text-align: right;\">\n",
       "      <th></th>\n",
       "      <th>y1_min</th>\n",
       "      <th>y2_max</th>\n",
       "      <th>y3_sum</th>\n",
       "      <th>y4_std</th>\n",
       "      <th>y5_mean</th>\n",
       "    </tr>\n",
       "  </thead>\n",
       "  <tbody>\n",
       "    <tr>\n",
       "      <td>0</td>\n",
       "      <td>0.104662</td>\n",
       "      <td>1329.366949</td>\n",
       "      <td>6671.344415</td>\n",
       "      <td>122.076903</td>\n",
       "      <td>50.929525</td>\n",
       "    </tr>\n",
       "    <tr>\n",
       "      <td>1</td>\n",
       "      <td>0.241485</td>\n",
       "      <td>1455.041240</td>\n",
       "      <td>11705.357038</td>\n",
       "      <td>144.677902</td>\n",
       "      <td>59.212687</td>\n",
       "    </tr>\n",
       "    <tr>\n",
       "      <td>2</td>\n",
       "      <td>0.072305</td>\n",
       "      <td>768.045082</td>\n",
       "      <td>12330.215274</td>\n",
       "      <td>113.231855</td>\n",
       "      <td>60.982792</td>\n",
       "    </tr>\n",
       "    <tr>\n",
       "      <td>3</td>\n",
       "      <td>0.088867</td>\n",
       "      <td>1080.417097</td>\n",
       "      <td>11949.220585</td>\n",
       "      <td>90.892652</td>\n",
       "      <td>47.158235</td>\n",
       "    </tr>\n",
       "    <tr>\n",
       "      <td>4</td>\n",
       "      <td>0.192710</td>\n",
       "      <td>790.719459</td>\n",
       "      <td>7845.486521</td>\n",
       "      <td>112.499159</td>\n",
       "      <td>57.394334</td>\n",
       "    </tr>\n",
       "    <tr>\n",
       "      <td>5</td>\n",
       "      <td>0.060406</td>\n",
       "      <td>632.461845</td>\n",
       "      <td>10580.734102</td>\n",
       "      <td>50.812443</td>\n",
       "      <td>30.476008</td>\n",
       "    </tr>\n",
       "    <tr>\n",
       "      <td>6</td>\n",
       "      <td>0.276441</td>\n",
       "      <td>1149.389910</td>\n",
       "      <td>9834.296189</td>\n",
       "      <td>117.285986</td>\n",
       "      <td>49.049673</td>\n",
       "    </tr>\n",
       "    <tr>\n",
       "      <td>7</td>\n",
       "      <td>-0.004171</td>\n",
       "      <td>1389.637180</td>\n",
       "      <td>8060.422390</td>\n",
       "      <td>127.458017</td>\n",
       "      <td>53.345909</td>\n",
       "    </tr>\n",
       "    <tr>\n",
       "      <td>8</td>\n",
       "      <td>0.201588</td>\n",
       "      <td>948.948465</td>\n",
       "      <td>11554.511950</td>\n",
       "      <td>112.319197</td>\n",
       "      <td>55.838253</td>\n",
       "    </tr>\n",
       "    <tr>\n",
       "      <td>9</td>\n",
       "      <td>0.219670</td>\n",
       "      <td>821.583103</td>\n",
       "      <td>9490.111637</td>\n",
       "      <td>109.190324</td>\n",
       "      <td>56.141732</td>\n",
       "    </tr>\n",
       "    <tr>\n",
       "      <td>10</td>\n",
       "      <td>0.226697</td>\n",
       "      <td>788.155208</td>\n",
       "      <td>7017.869421</td>\n",
       "      <td>128.295415</td>\n",
       "      <td>57.457208</td>\n",
       "    </tr>\n",
       "    <tr>\n",
       "      <td>11</td>\n",
       "      <td>0.044456</td>\n",
       "      <td>1192.944325</td>\n",
       "      <td>8308.049978</td>\n",
       "      <td>138.995665</td>\n",
       "      <td>54.154197</td>\n",
       "    </tr>\n",
       "    <tr>\n",
       "      <td>12</td>\n",
       "      <td>0.119162</td>\n",
       "      <td>259.679666</td>\n",
       "      <td>7748.206775</td>\n",
       "      <td>86.551041</td>\n",
       "      <td>50.184272</td>\n",
       "    </tr>\n",
       "    <tr>\n",
       "      <td>13</td>\n",
       "      <td>0.106457</td>\n",
       "      <td>1071.889231</td>\n",
       "      <td>5756.131087</td>\n",
       "      <td>107.175505</td>\n",
       "      <td>38.366341</td>\n",
       "    </tr>\n",
       "    <tr>\n",
       "      <td>14</td>\n",
       "      <td>0.244026</td>\n",
       "      <td>1435.181149</td>\n",
       "      <td>9728.333880</td>\n",
       "      <td>129.548467</td>\n",
       "      <td>42.965099</td>\n",
       "    </tr>\n",
       "    <tr>\n",
       "      <td>15</td>\n",
       "      <td>0.109654</td>\n",
       "      <td>1104.712361</td>\n",
       "      <td>7371.175949</td>\n",
       "      <td>100.572783</td>\n",
       "      <td>42.012469</td>\n",
       "    </tr>\n",
       "    <tr>\n",
       "      <td>16</td>\n",
       "      <td>0.282590</td>\n",
       "      <td>1101.678309</td>\n",
       "      <td>9717.986937</td>\n",
       "      <td>128.884245</td>\n",
       "      <td>49.832494</td>\n",
       "    </tr>\n",
       "    <tr>\n",
       "      <td>17</td>\n",
       "      <td>-0.057737</td>\n",
       "      <td>1366.507305</td>\n",
       "      <td>9430.643941</td>\n",
       "      <td>146.675150</td>\n",
       "      <td>49.359794</td>\n",
       "    </tr>\n",
       "    <tr>\n",
       "      <td>18</td>\n",
       "      <td>0.081907</td>\n",
       "      <td>1442.567117</td>\n",
       "      <td>7617.553901</td>\n",
       "      <td>139.551472</td>\n",
       "      <td>42.176106</td>\n",
       "    </tr>\n",
       "    <tr>\n",
       "      <td>19</td>\n",
       "      <td>0.222034</td>\n",
       "      <td>1484.196236</td>\n",
       "      <td>12173.256586</td>\n",
       "      <td>117.948869</td>\n",
       "      <td>49.373970</td>\n",
       "    </tr>\n",
       "    <tr>\n",
       "      <td>20</td>\n",
       "      <td>-0.014928</td>\n",
       "      <td>1239.341019</td>\n",
       "      <td>8717.066836</td>\n",
       "      <td>145.465890</td>\n",
       "      <td>53.954957</td>\n",
       "    </tr>\n",
       "    <tr>\n",
       "      <td>21</td>\n",
       "      <td>0.342394</td>\n",
       "      <td>933.167299</td>\n",
       "      <td>4908.762800</td>\n",
       "      <td>112.222792</td>\n",
       "      <td>50.980497</td>\n",
       "    </tr>\n",
       "  </tbody>\n",
       "</table>\n",
       "</div>"
      ],
      "text/plain": [
       "      y1_min       y2_max        y3_sum      y4_std    y5_mean\n",
       "0   0.104662  1329.366949   6671.344415  122.076903  50.929525\n",
       "1   0.241485  1455.041240  11705.357038  144.677902  59.212687\n",
       "2   0.072305   768.045082  12330.215274  113.231855  60.982792\n",
       "3   0.088867  1080.417097  11949.220585   90.892652  47.158235\n",
       "4   0.192710   790.719459   7845.486521  112.499159  57.394334\n",
       "5   0.060406   632.461845  10580.734102   50.812443  30.476008\n",
       "6   0.276441  1149.389910   9834.296189  117.285986  49.049673\n",
       "7  -0.004171  1389.637180   8060.422390  127.458017  53.345909\n",
       "8   0.201588   948.948465  11554.511950  112.319197  55.838253\n",
       "9   0.219670   821.583103   9490.111637  109.190324  56.141732\n",
       "10  0.226697   788.155208   7017.869421  128.295415  57.457208\n",
       "11  0.044456  1192.944325   8308.049978  138.995665  54.154197\n",
       "12  0.119162   259.679666   7748.206775   86.551041  50.184272\n",
       "13  0.106457  1071.889231   5756.131087  107.175505  38.366341\n",
       "14  0.244026  1435.181149   9728.333880  129.548467  42.965099\n",
       "15  0.109654  1104.712361   7371.175949  100.572783  42.012469\n",
       "16  0.282590  1101.678309   9717.986937  128.884245  49.832494\n",
       "17 -0.057737  1366.507305   9430.643941  146.675150  49.359794\n",
       "18  0.081907  1442.567117   7617.553901  139.551472  42.176106\n",
       "19  0.222034  1484.196236  12173.256586  117.948869  49.373970\n",
       "20 -0.014928  1239.341019   8717.066836  145.465890  53.954957\n",
       "21  0.342394   933.167299   4908.762800  112.222792  50.980497"
      ]
     },
     "execution_count": 119,
     "metadata": {},
     "output_type": "execute_result"
    }
   ],
   "source": [
    "test_y_df = pd.DataFrame({'y1_min': test_y1,\n",
    "                          'y2_max': test_y2,\n",
    "                          'y3_sum': test_y3,\n",
    "                          'y4_std': test_y4,\n",
    "                          'y5_mean': test_y5})\n",
    "test_y_df"
   ]
  },
  {
   "cell_type": "code",
   "execution_count": 120,
   "metadata": {},
   "outputs": [
    {
     "data": {
      "text/html": [
       "<div>\n",
       "<style scoped>\n",
       "    .dataframe tbody tr th:only-of-type {\n",
       "        vertical-align: middle;\n",
       "    }\n",
       "\n",
       "    .dataframe tbody tr th {\n",
       "        vertical-align: top;\n",
       "    }\n",
       "\n",
       "    .dataframe thead th {\n",
       "        text-align: right;\n",
       "    }\n",
       "</style>\n",
       "<table border=\"1\" class=\"dataframe\">\n",
       "  <thead>\n",
       "    <tr style=\"text-align: right;\">\n",
       "      <th></th>\n",
       "      <th>y1_min</th>\n",
       "      <th>y2_max</th>\n",
       "      <th>y3_sum</th>\n",
       "      <th>y4_std</th>\n",
       "      <th>y5_mean</th>\n",
       "    </tr>\n",
       "  </thead>\n",
       "  <tbody>\n",
       "    <tr>\n",
       "      <td>count</td>\n",
       "      <td>22.000000</td>\n",
       "      <td>22.000000</td>\n",
       "      <td>22.000000</td>\n",
       "      <td>22.000000</td>\n",
       "      <td>22.000000</td>\n",
       "    </tr>\n",
       "    <tr>\n",
       "      <td>mean</td>\n",
       "      <td>0.143667</td>\n",
       "      <td>1081.164980</td>\n",
       "      <td>9023.488100</td>\n",
       "      <td>117.378715</td>\n",
       "      <td>50.061207</td>\n",
       "    </tr>\n",
       "    <tr>\n",
       "      <td>std</td>\n",
       "      <td>0.107250</td>\n",
       "      <td>315.531619</td>\n",
       "      <td>2114.290426</td>\n",
       "      <td>22.365686</td>\n",
       "      <td>7.349439</td>\n",
       "    </tr>\n",
       "    <tr>\n",
       "      <td>min</td>\n",
       "      <td>-0.057737</td>\n",
       "      <td>259.679666</td>\n",
       "      <td>4908.762800</td>\n",
       "      <td>50.812443</td>\n",
       "      <td>30.476008</td>\n",
       "    </tr>\n",
       "    <tr>\n",
       "      <td>25%</td>\n",
       "      <td>0.074705</td>\n",
       "      <td>849.479152</td>\n",
       "      <td>7650.217120</td>\n",
       "      <td>109.948441</td>\n",
       "      <td>47.631095</td>\n",
       "    </tr>\n",
       "    <tr>\n",
       "      <td>50%</td>\n",
       "      <td>0.114408</td>\n",
       "      <td>1103.195335</td>\n",
       "      <td>9073.855389</td>\n",
       "      <td>117.617428</td>\n",
       "      <td>50.556898</td>\n",
       "    </tr>\n",
       "    <tr>\n",
       "      <td>75%</td>\n",
       "      <td>0.225531</td>\n",
       "      <td>1357.222216</td>\n",
       "      <td>10394.124624</td>\n",
       "      <td>129.382412</td>\n",
       "      <td>55.417239</td>\n",
       "    </tr>\n",
       "    <tr>\n",
       "      <td>max</td>\n",
       "      <td>0.342394</td>\n",
       "      <td>1484.196236</td>\n",
       "      <td>12330.215274</td>\n",
       "      <td>146.675150</td>\n",
       "      <td>60.982792</td>\n",
       "    </tr>\n",
       "  </tbody>\n",
       "</table>\n",
       "</div>"
      ],
      "text/plain": [
       "          y1_min       y2_max        y3_sum      y4_std    y5_mean\n",
       "count  22.000000    22.000000     22.000000   22.000000  22.000000\n",
       "mean    0.143667  1081.164980   9023.488100  117.378715  50.061207\n",
       "std     0.107250   315.531619   2114.290426   22.365686   7.349439\n",
       "min    -0.057737   259.679666   4908.762800   50.812443  30.476008\n",
       "25%     0.074705   849.479152   7650.217120  109.948441  47.631095\n",
       "50%     0.114408  1103.195335   9073.855389  117.617428  50.556898\n",
       "75%     0.225531  1357.222216  10394.124624  129.382412  55.417239\n",
       "max     0.342394  1484.196236  12330.215274  146.675150  60.982792"
      ]
     },
     "execution_count": 120,
     "metadata": {},
     "output_type": "execute_result"
    }
   ],
   "source": [
    "test_y_df.describe()"
   ]
  },
  {
   "cell_type": "code",
   "execution_count": 101,
   "metadata": {},
   "outputs": [],
   "source": [
    "test_y_df.to_csv('test_y_df.csv', index = False)"
   ]
  }
 ],
 "metadata": {
  "kernelspec": {
   "display_name": "Python 3",
   "language": "python",
   "name": "python3"
  },
  "language_info": {
   "codemirror_mode": {
    "name": "ipython",
    "version": 3
   },
   "file_extension": ".py",
   "mimetype": "text/x-python",
   "name": "python",
   "nbconvert_exporter": "python",
   "pygments_lexer": "ipython3",
   "version": "3.7.4"
  }
 },
 "nbformat": 4,
 "nbformat_minor": 2
}
