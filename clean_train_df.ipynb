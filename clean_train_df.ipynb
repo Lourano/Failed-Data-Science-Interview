{
 "cells": [
  {
   "cell_type": "markdown",
   "metadata": {},
   "source": [
    "# First part of Work\n",
    "\n",
    "This notebook shows, that Dataframe was a little bit \"dirty\", and I decided to clean up it)\n",
    "\n",
    "Also it's like an EDA part))"
   ]
  },
  {
   "cell_type": "code",
   "execution_count": 128,
   "metadata": {},
   "outputs": [],
   "source": [
    "import matplotlib.pyplot as plt\n",
    "import seaborn as sns\n",
    "import pandas as pd\n",
    "import numpy as np\n",
    "\n",
    "%matplotlib inline             # import packages"
   ]
  },
  {
   "cell_type": "code",
   "execution_count": 129,
   "metadata": {},
   "outputs": [
    {
     "data": {
      "text/html": [
       "<div>\n",
       "<style scoped>\n",
       "    .dataframe tbody tr th:only-of-type {\n",
       "        vertical-align: middle;\n",
       "    }\n",
       "\n",
       "    .dataframe tbody tr th {\n",
       "        vertical-align: top;\n",
       "    }\n",
       "\n",
       "    .dataframe thead th {\n",
       "        text-align: right;\n",
       "    }\n",
       "</style>\n",
       "<table border=\"1\" class=\"dataframe\">\n",
       "  <thead>\n",
       "    <tr style=\"text-align: right;\">\n",
       "      <th></th>\n",
       "      <th>Date</th>\n",
       "      <th>Bid_Price</th>\n",
       "      <th>Bid_Shares</th>\n",
       "      <th>Ask_Price</th>\n",
       "      <th>Ask_Shares</th>\n",
       "      <th>FeaturePrice1</th>\n",
       "      <th>FeaturePrice2</th>\n",
       "      <th>FeaturePrice3</th>\n",
       "      <th>FeaturePrice4</th>\n",
       "      <th>FeatureShares1</th>\n",
       "      <th>FeatureShares2</th>\n",
       "      <th>TargetPrice</th>\n",
       "    </tr>\n",
       "  </thead>\n",
       "  <tbody>\n",
       "    <tr>\n",
       "      <td>0</td>\n",
       "      <td>2016-04-14</td>\n",
       "      <td>111.58</td>\n",
       "      <td>35</td>\n",
       "      <td>111.59</td>\n",
       "      <td>300</td>\n",
       "      <td>111.59</td>\n",
       "      <td>111.62</td>\n",
       "      <td>111.63</td>\n",
       "      <td>112.0400</td>\n",
       "      <td>263236</td>\n",
       "      <td>22556</td>\n",
       "      <td>111.64</td>\n",
       "    </tr>\n",
       "    <tr>\n",
       "      <td>102</td>\n",
       "      <td>2016-04-14</td>\n",
       "      <td>7.87</td>\n",
       "      <td>1201</td>\n",
       "      <td>7.88</td>\n",
       "      <td>199</td>\n",
       "      <td>7.87</td>\n",
       "      <td>7.82</td>\n",
       "      <td>7.81</td>\n",
       "      <td>7.8500</td>\n",
       "      <td>4375</td>\n",
       "      <td>-6440</td>\n",
       "      <td>7.80</td>\n",
       "    </tr>\n",
       "    <tr>\n",
       "      <td>101</td>\n",
       "      <td>2016-04-14</td>\n",
       "      <td>14.49</td>\n",
       "      <td>100</td>\n",
       "      <td>14.53</td>\n",
       "      <td>1300</td>\n",
       "      <td>14.49</td>\n",
       "      <td>14.46</td>\n",
       "      <td>14.46</td>\n",
       "      <td>14.5100</td>\n",
       "      <td>1509</td>\n",
       "      <td>-672</td>\n",
       "      <td>14.44</td>\n",
       "    </tr>\n",
       "    <tr>\n",
       "      <td>100</td>\n",
       "      <td>2016-04-14</td>\n",
       "      <td>0.35</td>\n",
       "      <td>2500</td>\n",
       "      <td>0.36</td>\n",
       "      <td>5000</td>\n",
       "      <td>0.35</td>\n",
       "      <td>0.33</td>\n",
       "      <td>0.32</td>\n",
       "      <td>0.2444</td>\n",
       "      <td>76937</td>\n",
       "      <td>-174245</td>\n",
       "      <td>0.35</td>\n",
       "    </tr>\n",
       "    <tr>\n",
       "      <td>99</td>\n",
       "      <td>2016-04-14</td>\n",
       "      <td>50.50</td>\n",
       "      <td>331</td>\n",
       "      <td>50.87</td>\n",
       "      <td>300</td>\n",
       "      <td>50.74</td>\n",
       "      <td>50.74</td>\n",
       "      <td>50.75</td>\n",
       "      <td>50.6200</td>\n",
       "      <td>4</td>\n",
       "      <td>46</td>\n",
       "      <td>50.60</td>\n",
       "    </tr>\n",
       "    <tr>\n",
       "      <td>...</td>\n",
       "      <td>...</td>\n",
       "      <td>...</td>\n",
       "      <td>...</td>\n",
       "      <td>...</td>\n",
       "      <td>...</td>\n",
       "      <td>...</td>\n",
       "      <td>...</td>\n",
       "      <td>...</td>\n",
       "      <td>...</td>\n",
       "      <td>...</td>\n",
       "      <td>...</td>\n",
       "      <td>...</td>\n",
       "    </tr>\n",
       "    <tr>\n",
       "      <td>18542</td>\n",
       "      <td>2016-09-14</td>\n",
       "      <td>12.76</td>\n",
       "      <td>100</td>\n",
       "      <td>12.88</td>\n",
       "      <td>100</td>\n",
       "      <td>12.63</td>\n",
       "      <td>12.63</td>\n",
       "      <td>12.60</td>\n",
       "      <td>12.3100</td>\n",
       "      <td>97166</td>\n",
       "      <td>-5309</td>\n",
       "      <td>12.63</td>\n",
       "    </tr>\n",
       "    <tr>\n",
       "      <td>18543</td>\n",
       "      <td>2016-09-14</td>\n",
       "      <td>127.33</td>\n",
       "      <td>350</td>\n",
       "      <td>127.44</td>\n",
       "      <td>300</td>\n",
       "      <td>127.33</td>\n",
       "      <td>127.00</td>\n",
       "      <td>127.00</td>\n",
       "      <td>127.2100</td>\n",
       "      <td>88726</td>\n",
       "      <td>-113948</td>\n",
       "      <td>126.94</td>\n",
       "    </tr>\n",
       "    <tr>\n",
       "      <td>18544</td>\n",
       "      <td>2016-09-14</td>\n",
       "      <td>14.90</td>\n",
       "      <td>4805</td>\n",
       "      <td>199999.99</td>\n",
       "      <td>300</td>\n",
       "      <td>15.01</td>\n",
       "      <td>15.01</td>\n",
       "      <td>15.02</td>\n",
       "      <td>14.9200</td>\n",
       "      <td>48</td>\n",
       "      <td>52</td>\n",
       "      <td>15.01</td>\n",
       "    </tr>\n",
       "    <tr>\n",
       "      <td>18546</td>\n",
       "      <td>2016-09-14</td>\n",
       "      <td>118.30</td>\n",
       "      <td>100</td>\n",
       "      <td>119.00</td>\n",
       "      <td>200</td>\n",
       "      <td>119.00</td>\n",
       "      <td>119.06</td>\n",
       "      <td>119.06</td>\n",
       "      <td>116.8400</td>\n",
       "      <td>11585</td>\n",
       "      <td>1784</td>\n",
       "      <td>119.06</td>\n",
       "    </tr>\n",
       "    <tr>\n",
       "      <td>18650</td>\n",
       "      <td>2016-09-14</td>\n",
       "      <td>0.00</td>\n",
       "      <td>0</td>\n",
       "      <td>0.00</td>\n",
       "      <td>0</td>\n",
       "      <td>12.70</td>\n",
       "      <td>12.70</td>\n",
       "      <td>302.00</td>\n",
       "      <td>13.0400</td>\n",
       "      <td>15201</td>\n",
       "      <td>5123</td>\n",
       "      <td>12.70</td>\n",
       "    </tr>\n",
       "  </tbody>\n",
       "</table>\n",
       "<p>18651 rows × 12 columns</p>\n",
       "</div>"
      ],
      "text/plain": [
       "            Date  Bid_Price  Bid_Shares  Ask_Price  Ask_Shares  FeaturePrice1  \\\n",
       "0     2016-04-14     111.58          35     111.59         300         111.59   \n",
       "102   2016-04-14       7.87        1201       7.88         199           7.87   \n",
       "101   2016-04-14      14.49         100      14.53        1300          14.49   \n",
       "100   2016-04-14       0.35        2500       0.36        5000           0.35   \n",
       "99    2016-04-14      50.50         331      50.87         300          50.74   \n",
       "...          ...        ...         ...        ...         ...            ...   \n",
       "18542 2016-09-14      12.76         100      12.88         100          12.63   \n",
       "18543 2016-09-14     127.33         350     127.44         300         127.33   \n",
       "18544 2016-09-14      14.90        4805  199999.99         300          15.01   \n",
       "18546 2016-09-14     118.30         100     119.00         200         119.00   \n",
       "18650 2016-09-14       0.00           0       0.00           0          12.70   \n",
       "\n",
       "       FeaturePrice2  FeaturePrice3  FeaturePrice4  FeatureShares1  \\\n",
       "0             111.62         111.63       112.0400          263236   \n",
       "102             7.82           7.81         7.8500            4375   \n",
       "101            14.46          14.46        14.5100            1509   \n",
       "100             0.33           0.32         0.2444           76937   \n",
       "99             50.74          50.75        50.6200               4   \n",
       "...              ...            ...            ...             ...   \n",
       "18542          12.63          12.60        12.3100           97166   \n",
       "18543         127.00         127.00       127.2100           88726   \n",
       "18544          15.01          15.02        14.9200              48   \n",
       "18546         119.06         119.06       116.8400           11585   \n",
       "18650          12.70         302.00        13.0400           15201   \n",
       "\n",
       "       FeatureShares2  TargetPrice  \n",
       "0               22556       111.64  \n",
       "102             -6440         7.80  \n",
       "101              -672        14.44  \n",
       "100           -174245         0.35  \n",
       "99                 46        50.60  \n",
       "...               ...          ...  \n",
       "18542           -5309        12.63  \n",
       "18543         -113948       126.94  \n",
       "18544              52        15.01  \n",
       "18546            1784       119.06  \n",
       "18650            5123        12.70  \n",
       "\n",
       "[18651 rows x 12 columns]"
      ]
     },
     "execution_count": 129,
     "metadata": {},
     "output_type": "execute_result"
    }
   ],
   "source": [
    "df = pd.read_csv('data.csv')\n",
    "test_df = pd.read_csv('test.csv')\n",
    "df.Date = pd.to_datetime(df.Date)\n",
    "df = df.sort_values(by = 'Date')\n",
    "df                               # import dfs"
   ]
  },
  {
   "cell_type": "code",
   "execution_count": 130,
   "metadata": {},
   "outputs": [
    {
     "data": {
      "text/html": [
       "<div>\n",
       "<style scoped>\n",
       "    .dataframe tbody tr th:only-of-type {\n",
       "        vertical-align: middle;\n",
       "    }\n",
       "\n",
       "    .dataframe tbody tr th {\n",
       "        vertical-align: top;\n",
       "    }\n",
       "\n",
       "    .dataframe thead th {\n",
       "        text-align: right;\n",
       "    }\n",
       "</style>\n",
       "<table border=\"1\" class=\"dataframe\">\n",
       "  <thead>\n",
       "    <tr style=\"text-align: right;\">\n",
       "      <th></th>\n",
       "      <th>Bid_Price</th>\n",
       "      <th>Bid_Shares</th>\n",
       "      <th>Ask_Price</th>\n",
       "      <th>Ask_Shares</th>\n",
       "      <th>FeaturePrice1</th>\n",
       "      <th>FeaturePrice2</th>\n",
       "      <th>FeaturePrice3</th>\n",
       "      <th>FeaturePrice4</th>\n",
       "      <th>FeatureShares1</th>\n",
       "      <th>FeatureShares2</th>\n",
       "      <th>TargetPrice</th>\n",
       "    </tr>\n",
       "  </thead>\n",
       "  <tbody>\n",
       "    <tr>\n",
       "      <td>count</td>\n",
       "      <td>18651.000000</td>\n",
       "      <td>1.865100e+04</td>\n",
       "      <td>18651.000000</td>\n",
       "      <td>18651.000000</td>\n",
       "      <td>18651.000000</td>\n",
       "      <td>18651.000000</td>\n",
       "      <td>18651.000000</td>\n",
       "      <td>18651.000000</td>\n",
       "      <td>1.865100e+04</td>\n",
       "      <td>1.865100e+04</td>\n",
       "      <td>18651.000000</td>\n",
       "    </tr>\n",
       "    <tr>\n",
       "      <td>mean</td>\n",
       "      <td>49.808722</td>\n",
       "      <td>7.483422e+03</td>\n",
       "      <td>2769.878478</td>\n",
       "      <td>2715.718353</td>\n",
       "      <td>109.851994</td>\n",
       "      <td>109.834677</td>\n",
       "      <td>135.859794</td>\n",
       "      <td>51.318909</td>\n",
       "      <td>2.773807e+04</td>\n",
       "      <td>-2.133085e+03</td>\n",
       "      <td>50.633185</td>\n",
       "    </tr>\n",
       "    <tr>\n",
       "      <td>std</td>\n",
       "      <td>118.884831</td>\n",
       "      <td>1.129521e+05</td>\n",
       "      <td>22194.878283</td>\n",
       "      <td>16258.658494</td>\n",
       "      <td>3356.309019</td>\n",
       "      <td>3356.309296</td>\n",
       "      <td>3940.845536</td>\n",
       "      <td>143.405179</td>\n",
       "      <td>1.062102e+05</td>\n",
       "      <td>6.311341e+04</td>\n",
       "      <td>118.939909</td>\n",
       "    </tr>\n",
       "    <tr>\n",
       "      <td>min</td>\n",
       "      <td>0.000000</td>\n",
       "      <td>0.000000e+00</td>\n",
       "      <td>0.000000</td>\n",
       "      <td>0.000000</td>\n",
       "      <td>0.003500</td>\n",
       "      <td>0.000100</td>\n",
       "      <td>0.000000</td>\n",
       "      <td>0.004000</td>\n",
       "      <td>0.000000e+00</td>\n",
       "      <td>-2.398686e+06</td>\n",
       "      <td>0.003000</td>\n",
       "    </tr>\n",
       "    <tr>\n",
       "      <td>25%</td>\n",
       "      <td>4.990000</td>\n",
       "      <td>1.000000e+02</td>\n",
       "      <td>6.200000</td>\n",
       "      <td>100.000000</td>\n",
       "      <td>5.705000</td>\n",
       "      <td>5.700000</td>\n",
       "      <td>4.720000</td>\n",
       "      <td>5.745000</td>\n",
       "      <td>8.305000e+02</td>\n",
       "      <td>-3.622500e+03</td>\n",
       "      <td>5.695000</td>\n",
       "    </tr>\n",
       "    <tr>\n",
       "      <td>50%</td>\n",
       "      <td>20.500000</td>\n",
       "      <td>2.000000e+02</td>\n",
       "      <td>23.500000</td>\n",
       "      <td>200.000000</td>\n",
       "      <td>21.620000</td>\n",
       "      <td>21.590000</td>\n",
       "      <td>20.700000</td>\n",
       "      <td>21.670000</td>\n",
       "      <td>5.001000e+03</td>\n",
       "      <td>4.000000e+00</td>\n",
       "      <td>21.560000</td>\n",
       "    </tr>\n",
       "    <tr>\n",
       "      <td>75%</td>\n",
       "      <td>50.400000</td>\n",
       "      <td>9.380000e+02</td>\n",
       "      <td>54.625000</td>\n",
       "      <td>900.000000</td>\n",
       "      <td>51.290000</td>\n",
       "      <td>51.375000</td>\n",
       "      <td>51.430000</td>\n",
       "      <td>51.040000</td>\n",
       "      <td>1.850250e+04</td>\n",
       "      <td>2.367000e+03</td>\n",
       "      <td>51.045000</td>\n",
       "    </tr>\n",
       "    <tr>\n",
       "      <td>max</td>\n",
       "      <td>1437.000000</td>\n",
       "      <td>3.623700e+06</td>\n",
       "      <td>199999.990000</td>\n",
       "      <td>633852.000000</td>\n",
       "      <td>199999.990000</td>\n",
       "      <td>199999.990000</td>\n",
       "      <td>199999.990000</td>\n",
       "      <td>10855.660000</td>\n",
       "      <td>5.576209e+06</td>\n",
       "      <td>1.963809e+06</td>\n",
       "      <td>1435.000000</td>\n",
       "    </tr>\n",
       "  </tbody>\n",
       "</table>\n",
       "</div>"
      ],
      "text/plain": [
       "          Bid_Price    Bid_Shares      Ask_Price     Ask_Shares  \\\n",
       "count  18651.000000  1.865100e+04   18651.000000   18651.000000   \n",
       "mean      49.808722  7.483422e+03    2769.878478    2715.718353   \n",
       "std      118.884831  1.129521e+05   22194.878283   16258.658494   \n",
       "min        0.000000  0.000000e+00       0.000000       0.000000   \n",
       "25%        4.990000  1.000000e+02       6.200000     100.000000   \n",
       "50%       20.500000  2.000000e+02      23.500000     200.000000   \n",
       "75%       50.400000  9.380000e+02      54.625000     900.000000   \n",
       "max     1437.000000  3.623700e+06  199999.990000  633852.000000   \n",
       "\n",
       "       FeaturePrice1  FeaturePrice2  FeaturePrice3  FeaturePrice4  \\\n",
       "count   18651.000000   18651.000000   18651.000000   18651.000000   \n",
       "mean      109.851994     109.834677     135.859794      51.318909   \n",
       "std      3356.309019    3356.309296    3940.845536     143.405179   \n",
       "min         0.003500       0.000100       0.000000       0.004000   \n",
       "25%         5.705000       5.700000       4.720000       5.745000   \n",
       "50%        21.620000      21.590000      20.700000      21.670000   \n",
       "75%        51.290000      51.375000      51.430000      51.040000   \n",
       "max    199999.990000  199999.990000  199999.990000   10855.660000   \n",
       "\n",
       "       FeatureShares1  FeatureShares2   TargetPrice  \n",
       "count    1.865100e+04    1.865100e+04  18651.000000  \n",
       "mean     2.773807e+04   -2.133085e+03     50.633185  \n",
       "std      1.062102e+05    6.311341e+04    118.939909  \n",
       "min      0.000000e+00   -2.398686e+06      0.003000  \n",
       "25%      8.305000e+02   -3.622500e+03      5.695000  \n",
       "50%      5.001000e+03    4.000000e+00     21.560000  \n",
       "75%      1.850250e+04    2.367000e+03     51.045000  \n",
       "max      5.576209e+06    1.963809e+06   1435.000000  "
      ]
     },
     "execution_count": 130,
     "metadata": {},
     "output_type": "execute_result"
    }
   ],
   "source": [
    "df.describe() # statistical invariantes"
   ]
  },
  {
   "cell_type": "code",
   "execution_count": 131,
   "metadata": {},
   "outputs": [
    {
     "data": {
      "text/plain": [
       "2016-06-24    0.019838\n",
       "2016-06-27    0.012064\n",
       "2016-06-20    0.011849\n",
       "2016-07-15    0.011742\n",
       "2016-06-29    0.011742\n",
       "                ...   \n",
       "2016-06-22    0.007131\n",
       "2016-05-18    0.007131\n",
       "2016-05-27    0.006702\n",
       "2016-06-21    0.006434\n",
       "2016-05-12    0.005737\n",
       "Name: Date, Length: 107, dtype: float64"
      ]
     },
     "execution_count": 131,
     "metadata": {},
     "output_type": "execute_result"
    }
   ],
   "source": [
    "df.Date.value_counts(normalize = True) # days in train "
   ]
  },
  {
   "cell_type": "code",
   "execution_count": 132,
   "metadata": {},
   "outputs": [
    {
     "data": {
      "text/plain": [
       "2016-09-16    0.059381\n",
       "2016-09-19    0.054773\n",
       "2016-09-21    0.051702\n",
       "2016-09-26    0.051190\n",
       "2016-10-13    0.051190\n",
       "2016-10-03    0.047863\n",
       "2016-10-06    0.047351\n",
       "2016-09-22    0.047095\n",
       "2016-10-10    0.047095\n",
       "2016-09-20    0.045303\n",
       "2016-09-28    0.044791\n",
       "2016-09-29    0.044279\n",
       "2016-10-11    0.044024\n",
       "2016-09-27    0.042488\n",
       "2016-10-07    0.041720\n",
       "2016-09-30    0.041720\n",
       "2016-10-04    0.041208\n",
       "2016-09-23    0.040440\n",
       "2016-09-15    0.039672\n",
       "2016-10-14    0.039416\n",
       "2016-10-05    0.039160\n",
       "2016-10-12    0.038137\n",
       "Name: Date, dtype: float64"
      ]
     },
     "execution_count": 132,
     "metadata": {},
     "output_type": "execute_result"
    }
   ],
   "source": [
    "test_df.Date.value_counts(normalize = True) # days in test "
   ]
  },
  {
   "cell_type": "code",
   "execution_count": 133,
   "metadata": {},
   "outputs": [
    {
     "data": {
      "text/plain": [
       "<matplotlib.axes._subplots.AxesSubplot at 0x7f8c0885a710>"
      ]
     },
     "execution_count": 133,
     "metadata": {},
     "output_type": "execute_result"
    },
    {
     "data": {
      "image/png": "[encoded data removed]",
      "text/plain": [
       "<Figure size 432x288 with 1 Axes>"
      ]
     },
     "metadata": {
      "needs_background": "light"
     },
     "output_type": "display_data"
    }
   ],
   "source": [
    "sns.distplot(df.TargetPrice) # target distribution - looks terrible))"
   ]
  },
  {
   "cell_type": "markdown",
   "metadata": {},
   "source": [
    "#### Preprocess FeaturePrice1"
   ]
  },
  {
   "cell_type": "code",
   "execution_count": 134,
   "metadata": {},
   "outputs": [
    {
     "data": {
      "text/plain": [
       "<matplotlib.axes._subplots.AxesSubplot at 0x7f8c08ac3110>"
      ]
     },
     "execution_count": 134,
     "metadata": {},
     "output_type": "execute_result"
    },
    {
     "data": {
      "image/png": "[encoded data removed]",
      "text/plain": [
       "<Figure size 432x288 with 1 Axes>"
      ]
     },
     "metadata": {
      "needs_background": "light"
     },
     "output_type": "display_data"
    }
   ],
   "source": [
    "sns.distplot(df.FeaturePrice1) # plot distribution"
   ]
  },
  {
   "cell_type": "code",
   "execution_count": 135,
   "metadata": {},
   "outputs": [
    {
     "data": {
      "text/plain": [
       "<matplotlib.axes._subplots.AxesSubplot at 0x7f8c08c94c10>"
      ]
     },
     "execution_count": 135,
     "metadata": {},
     "output_type": "execute_result"
    },
    {
     "data": {
      "image/png": "[encoded data removed]",
      "text/plain": [
       "<Figure size 432x288 with 1 Axes>"
      ]
     },
     "metadata": {
      "needs_background": "light"
     },
     "output_type": "display_data"
    }
   ],
   "source": [
    "sns.lineplot(x = df.Date, y = df.TargetPrice) # plot time series of target "
   ]
  },
  {
   "cell_type": "code",
   "execution_count": 136,
   "metadata": {},
   "outputs": [
    {
     "data": {
      "text/plain": [
       "<matplotlib.axes._subplots.AxesSubplot at 0x7f8c08ccfad0>"
      ]
     },
     "execution_count": 136,
     "metadata": {},
     "output_type": "execute_result"
    },
    {
     "data": {
      "image/png": "[encoded data removed]",
      "text/plain": [
       "<Figure size 432x288 with 1 Axes>"
      ]
     },
     "metadata": {
      "needs_background": "light"
     },
     "output_type": "display_data"
    }
   ],
   "source": [
    "sns.lineplot(x = df.Date, y = df.FeaturePrice1) # plot time series of FeaturePrice1"
   ]
  },
  {
   "cell_type": "code",
   "execution_count": 137,
   "metadata": {},
   "outputs": [
    {
     "data": {
      "text/plain": [
       "<matplotlib.axes._subplots.AxesSubplot at 0x7f8c071c34d0>"
      ]
     },
     "execution_count": 137,
     "metadata": {},
     "output_type": "execute_result"
    },
    {
     "data": {
      "image/png": "[encoded data removed]",
      "text/plain": [
       "<Figure size 432x288 with 1 Axes>"
      ]
     },
     "metadata": {
      "needs_background": "light"
     },
     "output_type": "display_data"
    }
   ],
   "source": [
    "sns.boxplot(x = df.FeaturePrice1) # detect anomalies"
   ]
  },
  {
   "cell_type": "code",
   "execution_count": 138,
   "metadata": {},
   "outputs": [
    {
     "data": {
      "text/plain": [
       "<matplotlib.axes._subplots.AxesSubplot at 0x7f8c090720d0>"
      ]
     },
     "execution_count": 138,
     "metadata": {},
     "output_type": "execute_result"
    },
    {
     "data": {
      "image/png": "[encoded data removed]",
      "text/plain": [
       "<Figure size 432x288 with 1 Axes>"
      ]
     },
     "metadata": {
      "needs_background": "light"
     },
     "output_type": "display_data"
    }
   ],
   "source": [
    "sns.lineplot(x = df.Date, y = np.log(df.TargetPrice))\n",
    "sns.lineplot(x = df.Date, y = np.log(df.FeaturePrice1)) # honestly I didn’t understand what can be learned\n",
    "                                                        # from this"
   ]
  },
  {
   "cell_type": "code",
   "execution_count": 139,
   "metadata": {},
   "outputs": [
    {
     "name": "stdout",
     "output_type": "stream",
     "text": [
      "       FeaturePrice1  TargetPrice\n",
      "7252       199999.99        26.50\n",
      "8994       199999.99         8.46\n",
      "9547       100000.00        10.14\n",
      "11817      199999.99         1.00\n",
      "12439      199999.99         7.50\n",
      "12974      199999.99       590.62\n"
     ]
    }
   ],
   "source": [
    "print(df[['FeaturePrice1','TargetPrice']][df.FeaturePrice1 > df.FeaturePrice1.mean() + 4000])\n",
    "\n",
    "#print with filter"
   ]
  },
  {
   "cell_type": "markdown",
   "metadata": {},
   "source": [
    "Just this abnormal values made me to delete some rows))"
   ]
  },
  {
   "cell_type": "code",
   "execution_count": 140,
   "metadata": {},
   "outputs": [
    {
     "data": {
      "text/plain": [
       "array([[1.        , 0.99296929],\n",
       "       [0.99296929, 1.        ]])"
      ]
     },
     "execution_count": 140,
     "metadata": {},
     "output_type": "execute_result"
    }
   ],
   "source": [
    "np.corrcoef(np.log(df.TargetPrice), np.log(df.FeaturePrice1)) # corr coef to loged values"
   ]
  },
  {
   "cell_type": "code",
   "execution_count": 141,
   "metadata": {},
   "outputs": [
    {
     "data": {
      "text/plain": [
       "array([[1.        , 0.04507929],\n",
       "       [0.04507929, 1.        ]])"
      ]
     },
     "execution_count": 141,
     "metadata": {},
     "output_type": "execute_result"
    }
   ],
   "source": [
    "np.corrcoef(df.TargetPrice, df.FeaturePrice1) # corr coef without log"
   ]
  },
  {
   "cell_type": "code",
   "execution_count": 142,
   "metadata": {},
   "outputs": [
    {
     "data": {
      "text/html": [
       "<div>\n",
       "<style scoped>\n",
       "    .dataframe tbody tr th:only-of-type {\n",
       "        vertical-align: middle;\n",
       "    }\n",
       "\n",
       "    .dataframe tbody tr th {\n",
       "        vertical-align: top;\n",
       "    }\n",
       "\n",
       "    .dataframe thead th {\n",
       "        text-align: right;\n",
       "    }\n",
       "</style>\n",
       "<table border=\"1\" class=\"dataframe\">\n",
       "  <thead>\n",
       "    <tr style=\"text-align: right;\">\n",
       "      <th></th>\n",
       "      <th>Date</th>\n",
       "      <th>Bid_Price</th>\n",
       "      <th>Bid_Shares</th>\n",
       "      <th>Ask_Price</th>\n",
       "      <th>Ask_Shares</th>\n",
       "      <th>FeaturePrice1</th>\n",
       "      <th>FeaturePrice2</th>\n",
       "      <th>FeaturePrice3</th>\n",
       "      <th>FeaturePrice4</th>\n",
       "      <th>FeatureShares1</th>\n",
       "      <th>FeatureShares2</th>\n",
       "      <th>TargetPrice</th>\n",
       "    </tr>\n",
       "  </thead>\n",
       "  <tbody>\n",
       "    <tr>\n",
       "      <td>7252</td>\n",
       "      <td>2016-06-15</td>\n",
       "      <td>26.76</td>\n",
       "      <td>1200</td>\n",
       "      <td>27.05</td>\n",
       "      <td>1100</td>\n",
       "      <td>199999.99</td>\n",
       "      <td>199999.99</td>\n",
       "      <td>0.0</td>\n",
       "      <td>26.97</td>\n",
       "      <td>5394</td>\n",
       "      <td>116</td>\n",
       "      <td>26.50</td>\n",
       "    </tr>\n",
       "    <tr>\n",
       "      <td>8994</td>\n",
       "      <td>2016-06-28</td>\n",
       "      <td>8.65</td>\n",
       "      <td>8</td>\n",
       "      <td>199999.99</td>\n",
       "      <td>100</td>\n",
       "      <td>199999.99</td>\n",
       "      <td>199999.99</td>\n",
       "      <td>0.0</td>\n",
       "      <td>7.99</td>\n",
       "      <td>1939</td>\n",
       "      <td>562</td>\n",
       "      <td>8.46</td>\n",
       "    </tr>\n",
       "    <tr>\n",
       "      <td>9547</td>\n",
       "      <td>2016-07-01</td>\n",
       "      <td>0.01</td>\n",
       "      <td>200</td>\n",
       "      <td>100000.00</td>\n",
       "      <td>100</td>\n",
       "      <td>100000.00</td>\n",
       "      <td>100000.00</td>\n",
       "      <td>128000.0</td>\n",
       "      <td>10.10</td>\n",
       "      <td>0</td>\n",
       "      <td>95</td>\n",
       "      <td>10.14</td>\n",
       "    </tr>\n",
       "    <tr>\n",
       "      <td>11817</td>\n",
       "      <td>2016-07-21</td>\n",
       "      <td>0.01</td>\n",
       "      <td>100</td>\n",
       "      <td>199999.99</td>\n",
       "      <td>100</td>\n",
       "      <td>199999.99</td>\n",
       "      <td>199999.99</td>\n",
       "      <td>0.0</td>\n",
       "      <td>0.85</td>\n",
       "      <td>1425</td>\n",
       "      <td>1575</td>\n",
       "      <td>1.00</td>\n",
       "    </tr>\n",
       "    <tr>\n",
       "      <td>12439</td>\n",
       "      <td>2016-07-27</td>\n",
       "      <td>0.01</td>\n",
       "      <td>100</td>\n",
       "      <td>199999.99</td>\n",
       "      <td>100</td>\n",
       "      <td>199999.99</td>\n",
       "      <td>199999.99</td>\n",
       "      <td>0.0</td>\n",
       "      <td>6.90</td>\n",
       "      <td>200</td>\n",
       "      <td>150</td>\n",
       "      <td>7.50</td>\n",
       "    </tr>\n",
       "    <tr>\n",
       "      <td>12974</td>\n",
       "      <td>2016-07-29</td>\n",
       "      <td>0.00</td>\n",
       "      <td>0</td>\n",
       "      <td>0.00</td>\n",
       "      <td>0</td>\n",
       "      <td>199999.99</td>\n",
       "      <td>199999.99</td>\n",
       "      <td>0.0</td>\n",
       "      <td>10855.66</td>\n",
       "      <td>9705</td>\n",
       "      <td>16761</td>\n",
       "      <td>590.62</td>\n",
       "    </tr>\n",
       "  </tbody>\n",
       "</table>\n",
       "</div>"
      ],
      "text/plain": [
       "            Date  Bid_Price  Bid_Shares  Ask_Price  Ask_Shares  FeaturePrice1  \\\n",
       "7252  2016-06-15      26.76        1200      27.05        1100      199999.99   \n",
       "8994  2016-06-28       8.65           8  199999.99         100      199999.99   \n",
       "9547  2016-07-01       0.01         200  100000.00         100      100000.00   \n",
       "11817 2016-07-21       0.01         100  199999.99         100      199999.99   \n",
       "12439 2016-07-27       0.01         100  199999.99         100      199999.99   \n",
       "12974 2016-07-29       0.00           0       0.00           0      199999.99   \n",
       "\n",
       "       FeaturePrice2  FeaturePrice3  FeaturePrice4  FeatureShares1  \\\n",
       "7252       199999.99            0.0          26.97            5394   \n",
       "8994       199999.99            0.0           7.99            1939   \n",
       "9547       100000.00       128000.0          10.10               0   \n",
       "11817      199999.99            0.0           0.85            1425   \n",
       "12439      199999.99            0.0           6.90             200   \n",
       "12974      199999.99            0.0       10855.66            9705   \n",
       "\n",
       "       FeatureShares2  TargetPrice  \n",
       "7252              116        26.50  \n",
       "8994              562         8.46  \n",
       "9547               95        10.14  \n",
       "11817            1575         1.00  \n",
       "12439             150         7.50  \n",
       "12974           16761       590.62  "
      ]
     },
     "execution_count": 142,
     "metadata": {},
     "output_type": "execute_result"
    }
   ],
   "source": [
    "df[df.FeaturePrice1 > 4000] # print with filter"
   ]
  },
  {
   "cell_type": "code",
   "execution_count": 143,
   "metadata": {},
   "outputs": [
    {
     "data": {
      "text/plain": [
       "1437.0"
      ]
     },
     "execution_count": 143,
     "metadata": {},
     "output_type": "execute_result"
    }
   ],
   "source": [
    "df = df.drop(index = df[df.FeaturePrice1 > 4000].index, axis = 0)\n",
    "df.FeaturePrice1.max() #delete anomalies"
   ]
  },
  {
   "cell_type": "code",
   "execution_count": 144,
   "metadata": {},
   "outputs": [
    {
     "data": {
      "text/plain": [
       "<matplotlib.axes._subplots.AxesSubplot at 0x7f8c0728d710>"
      ]
     },
     "execution_count": 144,
     "metadata": {},
     "output_type": "execute_result"
    },
    {
     "data": {
      "image/png": "[encoded data removed]",
      "text/plain": [
       "<Figure size 432x288 with 1 Axes>"
      ]
     },
     "metadata": {
      "needs_background": "light"
     },
     "output_type": "display_data"
    }
   ],
   "source": [
    "sns.distplot(df.FeaturePrice1) # that looks better))"
   ]
  },
  {
   "cell_type": "code",
   "execution_count": 145,
   "metadata": {},
   "outputs": [
    {
     "data": {
      "text/html": [
       "<div>\n",
       "<style scoped>\n",
       "    .dataframe tbody tr th:only-of-type {\n",
       "        vertical-align: middle;\n",
       "    }\n",
       "\n",
       "    .dataframe tbody tr th {\n",
       "        vertical-align: top;\n",
       "    }\n",
       "\n",
       "    .dataframe thead th {\n",
       "        text-align: right;\n",
       "    }\n",
       "</style>\n",
       "<table border=\"1\" class=\"dataframe\">\n",
       "  <thead>\n",
       "    <tr style=\"text-align: right;\">\n",
       "      <th></th>\n",
       "      <th>Bid_Price</th>\n",
       "      <th>Bid_Shares</th>\n",
       "      <th>Ask_Price</th>\n",
       "      <th>Ask_Shares</th>\n",
       "      <th>FeaturePrice1</th>\n",
       "      <th>FeaturePrice2</th>\n",
       "      <th>FeaturePrice3</th>\n",
       "      <th>FeaturePrice4</th>\n",
       "      <th>FeatureShares1</th>\n",
       "      <th>FeatureShares2</th>\n",
       "      <th>TargetPrice</th>\n",
       "    </tr>\n",
       "  </thead>\n",
       "  <tbody>\n",
       "    <tr>\n",
       "      <td>count</td>\n",
       "      <td>18645.000000</td>\n",
       "      <td>1.864500e+04</td>\n",
       "      <td>18645.000000</td>\n",
       "      <td>18645.000000</td>\n",
       "      <td>18645.000000</td>\n",
       "      <td>18645.000000</td>\n",
       "      <td>18645.000000</td>\n",
       "      <td>18645.000000</td>\n",
       "      <td>1.864500e+04</td>\n",
       "      <td>1.864500e+04</td>\n",
       "      <td>18645.000000</td>\n",
       "    </tr>\n",
       "    <tr>\n",
       "      <td>mean</td>\n",
       "      <td>49.822850</td>\n",
       "      <td>7.485744e+03</td>\n",
       "      <td>2733.224805</td>\n",
       "      <td>2716.511826</td>\n",
       "      <td>50.890297</td>\n",
       "      <td>50.872974</td>\n",
       "      <td>129.038403</td>\n",
       "      <td>50.750362</td>\n",
       "      <td>2.774599e+04</td>\n",
       "      <td>-2.134804e+03</td>\n",
       "      <td>50.614927</td>\n",
       "    </tr>\n",
       "    <tr>\n",
       "      <td>std</td>\n",
       "      <td>118.901219</td>\n",
       "      <td>1.129702e+05</td>\n",
       "      <td>22045.466452</td>\n",
       "      <td>16261.212835</td>\n",
       "      <td>119.336689</td>\n",
       "      <td>119.335934</td>\n",
       "      <td>3828.615038</td>\n",
       "      <td>119.623057</td>\n",
       "      <td>1.062264e+05</td>\n",
       "      <td>6.312340e+04</td>\n",
       "      <td>118.891413</td>\n",
       "    </tr>\n",
       "    <tr>\n",
       "      <td>min</td>\n",
       "      <td>0.000000</td>\n",
       "      <td>0.000000e+00</td>\n",
       "      <td>0.000000</td>\n",
       "      <td>0.000000</td>\n",
       "      <td>0.003500</td>\n",
       "      <td>0.000100</td>\n",
       "      <td>0.000000</td>\n",
       "      <td>0.004000</td>\n",
       "      <td>0.000000e+00</td>\n",
       "      <td>-2.398686e+06</td>\n",
       "      <td>0.003000</td>\n",
       "    </tr>\n",
       "    <tr>\n",
       "      <td>25%</td>\n",
       "      <td>4.990000</td>\n",
       "      <td>1.000000e+02</td>\n",
       "      <td>6.200000</td>\n",
       "      <td>100.000000</td>\n",
       "      <td>5.700000</td>\n",
       "      <td>5.700000</td>\n",
       "      <td>4.740000</td>\n",
       "      <td>5.740000</td>\n",
       "      <td>8.310000e+02</td>\n",
       "      <td>-3.623000e+03</td>\n",
       "      <td>5.690000</td>\n",
       "    </tr>\n",
       "    <tr>\n",
       "      <td>50%</td>\n",
       "      <td>20.510000</td>\n",
       "      <td>2.000000e+02</td>\n",
       "      <td>23.490000</td>\n",
       "      <td>200.000000</td>\n",
       "      <td>21.610000</td>\n",
       "      <td>21.560000</td>\n",
       "      <td>20.740000</td>\n",
       "      <td>21.680000</td>\n",
       "      <td>5.001000e+03</td>\n",
       "      <td>3.000000e+00</td>\n",
       "      <td>21.560000</td>\n",
       "    </tr>\n",
       "    <tr>\n",
       "      <td>75%</td>\n",
       "      <td>50.410000</td>\n",
       "      <td>9.380000e+02</td>\n",
       "      <td>54.600000</td>\n",
       "      <td>900.000000</td>\n",
       "      <td>51.270000</td>\n",
       "      <td>51.350000</td>\n",
       "      <td>51.430000</td>\n",
       "      <td>51.040000</td>\n",
       "      <td>1.851000e+04</td>\n",
       "      <td>2.368000e+03</td>\n",
       "      <td>51.050000</td>\n",
       "    </tr>\n",
       "    <tr>\n",
       "      <td>max</td>\n",
       "      <td>1437.000000</td>\n",
       "      <td>3.623700e+06</td>\n",
       "      <td>199999.990000</td>\n",
       "      <td>633852.000000</td>\n",
       "      <td>1437.000000</td>\n",
       "      <td>1435.000000</td>\n",
       "      <td>199999.990000</td>\n",
       "      <td>1765.060000</td>\n",
       "      <td>5.576209e+06</td>\n",
       "      <td>1.963809e+06</td>\n",
       "      <td>1435.000000</td>\n",
       "    </tr>\n",
       "  </tbody>\n",
       "</table>\n",
       "</div>"
      ],
      "text/plain": [
       "          Bid_Price    Bid_Shares      Ask_Price     Ask_Shares  \\\n",
       "count  18645.000000  1.864500e+04   18645.000000   18645.000000   \n",
       "mean      49.822850  7.485744e+03    2733.224805    2716.511826   \n",
       "std      118.901219  1.129702e+05   22045.466452   16261.212835   \n",
       "min        0.000000  0.000000e+00       0.000000       0.000000   \n",
       "25%        4.990000  1.000000e+02       6.200000     100.000000   \n",
       "50%       20.510000  2.000000e+02      23.490000     200.000000   \n",
       "75%       50.410000  9.380000e+02      54.600000     900.000000   \n",
       "max     1437.000000  3.623700e+06  199999.990000  633852.000000   \n",
       "\n",
       "       FeaturePrice1  FeaturePrice2  FeaturePrice3  FeaturePrice4  \\\n",
       "count   18645.000000   18645.000000   18645.000000   18645.000000   \n",
       "mean       50.890297      50.872974     129.038403      50.750362   \n",
       "std       119.336689     119.335934    3828.615038     119.623057   \n",
       "min         0.003500       0.000100       0.000000       0.004000   \n",
       "25%         5.700000       5.700000       4.740000       5.740000   \n",
       "50%        21.610000      21.560000      20.740000      21.680000   \n",
       "75%        51.270000      51.350000      51.430000      51.040000   \n",
       "max      1437.000000    1435.000000  199999.990000    1765.060000   \n",
       "\n",
       "       FeatureShares1  FeatureShares2   TargetPrice  \n",
       "count    1.864500e+04    1.864500e+04  18645.000000  \n",
       "mean     2.774599e+04   -2.134804e+03     50.614927  \n",
       "std      1.062264e+05    6.312340e+04    118.891413  \n",
       "min      0.000000e+00   -2.398686e+06      0.003000  \n",
       "25%      8.310000e+02   -3.623000e+03      5.690000  \n",
       "50%      5.001000e+03    3.000000e+00     21.560000  \n",
       "75%      1.851000e+04    2.368000e+03     51.050000  \n",
       "max      5.576209e+06    1.963809e+06   1435.000000  "
      ]
     },
     "execution_count": 145,
     "metadata": {},
     "output_type": "execute_result"
    }
   ],
   "source": [
    "df.describe()"
   ]
  },
  {
   "cell_type": "markdown",
   "metadata": {},
   "source": [
    "#### Preprocess FeaturePrice3"
   ]
  },
  {
   "cell_type": "code",
   "execution_count": 146,
   "metadata": {},
   "outputs": [
    {
     "data": {
      "text/html": [
       "<div>\n",
       "<style scoped>\n",
       "    .dataframe tbody tr th:only-of-type {\n",
       "        vertical-align: middle;\n",
       "    }\n",
       "\n",
       "    .dataframe tbody tr th {\n",
       "        vertical-align: top;\n",
       "    }\n",
       "\n",
       "    .dataframe thead th {\n",
       "        text-align: right;\n",
       "    }\n",
       "</style>\n",
       "<table border=\"1\" class=\"dataframe\">\n",
       "  <thead>\n",
       "    <tr style=\"text-align: right;\">\n",
       "      <th></th>\n",
       "      <th>Bid_Price</th>\n",
       "      <th>Bid_Shares</th>\n",
       "      <th>Ask_Price</th>\n",
       "      <th>Ask_Shares</th>\n",
       "      <th>FeaturePrice1</th>\n",
       "      <th>FeaturePrice2</th>\n",
       "      <th>FeaturePrice3</th>\n",
       "      <th>FeaturePrice4</th>\n",
       "      <th>FeatureShares1</th>\n",
       "      <th>FeatureShares2</th>\n",
       "      <th>TargetPrice</th>\n",
       "    </tr>\n",
       "  </thead>\n",
       "  <tbody>\n",
       "    <tr>\n",
       "      <td>count</td>\n",
       "      <td>18637.000000</td>\n",
       "      <td>1.863700e+04</td>\n",
       "      <td>18637.000000</td>\n",
       "      <td>18637.000000</td>\n",
       "      <td>18637.000000</td>\n",
       "      <td>18637.000000</td>\n",
       "      <td>18637.000000</td>\n",
       "      <td>18637.000000</td>\n",
       "      <td>1.863700e+04</td>\n",
       "      <td>1.863700e+04</td>\n",
       "      <td>18637.000000</td>\n",
       "    </tr>\n",
       "    <tr>\n",
       "      <td>mean</td>\n",
       "      <td>49.837681</td>\n",
       "      <td>7.488839e+03</td>\n",
       "      <td>2723.647738</td>\n",
       "      <td>2717.590492</td>\n",
       "      <td>50.838881</td>\n",
       "      <td>50.821528</td>\n",
       "      <td>50.862321</td>\n",
       "      <td>50.757882</td>\n",
       "      <td>2.775779e+04</td>\n",
       "      <td>-2.135943e+03</td>\n",
       "      <td>50.622283</td>\n",
       "    </tr>\n",
       "    <tr>\n",
       "      <td>std</td>\n",
       "      <td>118.924337</td>\n",
       "      <td>1.129944e+05</td>\n",
       "      <td>22027.108258</td>\n",
       "      <td>16264.619127</td>\n",
       "      <td>119.158341</td>\n",
       "      <td>119.157579</td>\n",
       "      <td>119.804231</td>\n",
       "      <td>119.647471</td>\n",
       "      <td>1.062477e+05</td>\n",
       "      <td>6.313692e+04</td>\n",
       "      <td>118.915682</td>\n",
       "    </tr>\n",
       "    <tr>\n",
       "      <td>min</td>\n",
       "      <td>0.000000</td>\n",
       "      <td>0.000000e+00</td>\n",
       "      <td>0.000000</td>\n",
       "      <td>0.000000</td>\n",
       "      <td>0.003500</td>\n",
       "      <td>0.000100</td>\n",
       "      <td>0.000000</td>\n",
       "      <td>0.004000</td>\n",
       "      <td>0.000000e+00</td>\n",
       "      <td>-2.398686e+06</td>\n",
       "      <td>0.003000</td>\n",
       "    </tr>\n",
       "    <tr>\n",
       "      <td>25%</td>\n",
       "      <td>5.000000</td>\n",
       "      <td>1.000000e+02</td>\n",
       "      <td>6.190000</td>\n",
       "      <td>100.000000</td>\n",
       "      <td>5.700000</td>\n",
       "      <td>5.690000</td>\n",
       "      <td>4.720000</td>\n",
       "      <td>5.740000</td>\n",
       "      <td>8.360000e+02</td>\n",
       "      <td>-3.625000e+03</td>\n",
       "      <td>5.680000</td>\n",
       "    </tr>\n",
       "    <tr>\n",
       "      <td>50%</td>\n",
       "      <td>20.510000</td>\n",
       "      <td>2.000000e+02</td>\n",
       "      <td>23.480000</td>\n",
       "      <td>200.000000</td>\n",
       "      <td>21.600000</td>\n",
       "      <td>21.560000</td>\n",
       "      <td>20.700000</td>\n",
       "      <td>21.670000</td>\n",
       "      <td>5.006000e+03</td>\n",
       "      <td>3.000000e+00</td>\n",
       "      <td>21.560000</td>\n",
       "    </tr>\n",
       "    <tr>\n",
       "      <td>75%</td>\n",
       "      <td>50.420000</td>\n",
       "      <td>9.430000e+02</td>\n",
       "      <td>54.590000</td>\n",
       "      <td>900.000000</td>\n",
       "      <td>51.270000</td>\n",
       "      <td>51.320000</td>\n",
       "      <td>51.400000</td>\n",
       "      <td>51.040000</td>\n",
       "      <td>1.851300e+04</td>\n",
       "      <td>2.369000e+03</td>\n",
       "      <td>51.050000</td>\n",
       "    </tr>\n",
       "    <tr>\n",
       "      <td>max</td>\n",
       "      <td>1437.000000</td>\n",
       "      <td>3.623700e+06</td>\n",
       "      <td>199999.990000</td>\n",
       "      <td>633852.000000</td>\n",
       "      <td>1437.000000</td>\n",
       "      <td>1435.000000</td>\n",
       "      <td>1435.000000</td>\n",
       "      <td>1765.060000</td>\n",
       "      <td>5.576209e+06</td>\n",
       "      <td>1.963809e+06</td>\n",
       "      <td>1435.000000</td>\n",
       "    </tr>\n",
       "  </tbody>\n",
       "</table>\n",
       "</div>"
      ],
      "text/plain": [
       "          Bid_Price    Bid_Shares      Ask_Price     Ask_Shares  \\\n",
       "count  18637.000000  1.863700e+04   18637.000000   18637.000000   \n",
       "mean      49.837681  7.488839e+03    2723.647738    2717.590492   \n",
       "std      118.924337  1.129944e+05   22027.108258   16264.619127   \n",
       "min        0.000000  0.000000e+00       0.000000       0.000000   \n",
       "25%        5.000000  1.000000e+02       6.190000     100.000000   \n",
       "50%       20.510000  2.000000e+02      23.480000     200.000000   \n",
       "75%       50.420000  9.430000e+02      54.590000     900.000000   \n",
       "max     1437.000000  3.623700e+06  199999.990000  633852.000000   \n",
       "\n",
       "       FeaturePrice1  FeaturePrice2  FeaturePrice3  FeaturePrice4  \\\n",
       "count   18637.000000   18637.000000   18637.000000   18637.000000   \n",
       "mean       50.838881      50.821528      50.862321      50.757882   \n",
       "std       119.158341     119.157579     119.804231     119.647471   \n",
       "min         0.003500       0.000100       0.000000       0.004000   \n",
       "25%         5.700000       5.690000       4.720000       5.740000   \n",
       "50%        21.600000      21.560000      20.700000      21.670000   \n",
       "75%        51.270000      51.320000      51.400000      51.040000   \n",
       "max      1437.000000    1435.000000    1435.000000    1765.060000   \n",
       "\n",
       "       FeatureShares1  FeatureShares2   TargetPrice  \n",
       "count    1.863700e+04    1.863700e+04  18637.000000  \n",
       "mean     2.775779e+04   -2.135943e+03     50.622283  \n",
       "std      1.062477e+05    6.313692e+04    118.915682  \n",
       "min      0.000000e+00   -2.398686e+06      0.003000  \n",
       "25%      8.360000e+02   -3.625000e+03      5.680000  \n",
       "50%      5.006000e+03    3.000000e+00     21.560000  \n",
       "75%      1.851300e+04    2.369000e+03     51.050000  \n",
       "max      5.576209e+06    1.963809e+06   1435.000000  "
      ]
     },
     "execution_count": 146,
     "metadata": {},
     "output_type": "execute_result"
    }
   ],
   "source": [
    "df = df.drop(index = df[df.FeaturePrice3 > 4000].index, axis = 0)\n",
    "df.describe() # delete anomalies"
   ]
  },
  {
   "cell_type": "markdown",
   "metadata": {},
   "source": [
    "#### Preprocess Bid_Price"
   ]
  },
  {
   "cell_type": "code",
   "execution_count": 147,
   "metadata": {},
   "outputs": [
    {
     "data": {
      "text/plain": [
       "<matplotlib.axes._subplots.AxesSubplot at 0x7f8c09328fd0>"
      ]
     },
     "execution_count": 147,
     "metadata": {},
     "output_type": "execute_result"
    },
    {
     "data": {
      "image/png": "[encoded data removed]",
      "text/plain": [
       "<Figure size 432x288 with 1 Axes>"
      ]
     },
     "metadata": {
      "needs_background": "light"
     },
     "output_type": "display_data"
    }
   ],
   "source": [
    "sns.boxplot(df.Bid_Price)  # after looking on boxplot, I thought that with this feature everything is okay) "
   ]
  },
  {
   "cell_type": "code",
   "execution_count": 148,
   "metadata": {},
   "outputs": [
    {
     "data": {
      "text/plain": [
       "<matplotlib.axes._subplots.AxesSubplot at 0x7f8c09798490>"
      ]
     },
     "execution_count": 148,
     "metadata": {},
     "output_type": "execute_result"
    },
    {
     "data": {
      "image/png": "[encoded data removed]",
      "text/plain": [
       "<Figure size 432x288 with 1 Axes>"
      ]
     },
     "metadata": {
      "needs_background": "light"
     },
     "output_type": "display_data"
    }
   ],
   "source": [
    "sns.distplot(df.Bid_Price)"
   ]
  },
  {
   "cell_type": "markdown",
   "metadata": {},
   "source": [
    "#### Preprocess Bid_Shares, Ask_Price, Ask_Shares"
   ]
  },
  {
   "cell_type": "code",
   "execution_count": 149,
   "metadata": {},
   "outputs": [
    {
     "data": {
      "text/plain": [
       "<matplotlib.axes._subplots.AxesSubplot at 0x7f8c0985ee50>"
      ]
     },
     "execution_count": 149,
     "metadata": {},
     "output_type": "execute_result"
    },
    {
     "data": {
      "image/png": "[encoded data removed]",
      "text/plain": [
       "<Figure size 432x288 with 1 Axes>"
      ]
     },
     "metadata": {
      "needs_background": "light"
     },
     "output_type": "display_data"
    }
   ],
   "source": [
    "sns.distplot(df.Bid_Shares) # so tarrible dist"
   ]
  },
  {
   "cell_type": "code",
   "execution_count": 150,
   "metadata": {},
   "outputs": [
    {
     "data": {
      "text/plain": [
       "<matplotlib.axes._subplots.AxesSubplot at 0x7f8c09cde9d0>"
      ]
     },
     "execution_count": 150,
     "metadata": {},
     "output_type": "execute_result"
    },
    {
     "data": {
      "image/png": "[encoded data removed]",
      "text/plain": [
       "<Figure size 432x288 with 1 Axes>"
      ]
     },
     "metadata": {
      "needs_background": "light"
     },
     "output_type": "display_data"
    }
   ],
   "source": [
    "sns.boxplot(df.Bid_Shares) # How many discarded from distribution values We have"
   ]
  },
  {
   "cell_type": "code",
   "execution_count": 151,
   "metadata": {},
   "outputs": [
    {
     "data": {
      "text/plain": [
       "<matplotlib.axes._subplots.AxesSubplot at 0x7f8c09db5450>"
      ]
     },
     "execution_count": 151,
     "metadata": {},
     "output_type": "execute_result"
    },
    {
     "data": {
      "image/png": "[encoded data removed]",
      "text/plain": [
       "<Figure size 432x288 with 1 Axes>"
      ]
     },
     "metadata": {
      "needs_background": "light"
     },
     "output_type": "display_data"
    }
   ],
   "source": [
    "sns.boxplot(df.Ask_Price) # also anomalies"
   ]
  },
  {
   "cell_type": "code",
   "execution_count": 152,
   "metadata": {},
   "outputs": [],
   "source": [
    "df = df.drop(index = df[df.Ask_Price > 22027].index, axis = 0) # delete it"
   ]
  },
  {
   "cell_type": "code",
   "execution_count": 153,
   "metadata": {},
   "outputs": [
    {
     "data": {
      "text/html": [
       "<div>\n",
       "<style scoped>\n",
       "    .dataframe tbody tr th:only-of-type {\n",
       "        vertical-align: middle;\n",
       "    }\n",
       "\n",
       "    .dataframe tbody tr th {\n",
       "        vertical-align: top;\n",
       "    }\n",
       "\n",
       "    .dataframe thead th {\n",
       "        text-align: right;\n",
       "    }\n",
       "</style>\n",
       "<table border=\"1\" class=\"dataframe\">\n",
       "  <thead>\n",
       "    <tr style=\"text-align: right;\">\n",
       "      <th></th>\n",
       "      <th>Bid_Price</th>\n",
       "      <th>Bid_Shares</th>\n",
       "      <th>Ask_Price</th>\n",
       "      <th>Ask_Shares</th>\n",
       "      <th>FeaturePrice1</th>\n",
       "      <th>FeaturePrice2</th>\n",
       "      <th>FeaturePrice3</th>\n",
       "      <th>FeaturePrice4</th>\n",
       "      <th>FeatureShares1</th>\n",
       "      <th>FeatureShares2</th>\n",
       "      <th>TargetPrice</th>\n",
       "    </tr>\n",
       "  </thead>\n",
       "  <tbody>\n",
       "    <tr>\n",
       "      <td>count</td>\n",
       "      <td>18349.000000</td>\n",
       "      <td>1.834900e+04</td>\n",
       "      <td>18349.000000</td>\n",
       "      <td>18349.000000</td>\n",
       "      <td>18349.000000</td>\n",
       "      <td>18349.000000</td>\n",
       "      <td>18349.000000</td>\n",
       "      <td>18349.000000</td>\n",
       "      <td>1.834900e+04</td>\n",
       "      <td>1.834900e+04</td>\n",
       "      <td>18349.000000</td>\n",
       "    </tr>\n",
       "    <tr>\n",
       "      <td>mean</td>\n",
       "      <td>50.471296</td>\n",
       "      <td>6.202762e+03</td>\n",
       "      <td>52.352993</td>\n",
       "      <td>2758.408306</td>\n",
       "      <td>51.356662</td>\n",
       "      <td>51.339539</td>\n",
       "      <td>51.458448</td>\n",
       "      <td>51.329723</td>\n",
       "      <td>2.818459e+04</td>\n",
       "      <td>-2.095334e+03</td>\n",
       "      <td>51.191086</td>\n",
       "    </tr>\n",
       "    <tr>\n",
       "      <td>std</td>\n",
       "      <td>119.725228</td>\n",
       "      <td>9.696882e+04</td>\n",
       "      <td>121.453112</td>\n",
       "      <td>16388.481206</td>\n",
       "      <td>119.774833</td>\n",
       "      <td>119.773831</td>\n",
       "      <td>120.622165</td>\n",
       "      <td>120.472698</td>\n",
       "      <td>1.070226e+05</td>\n",
       "      <td>6.337463e+04</td>\n",
       "      <td>119.735263</td>\n",
       "    </tr>\n",
       "    <tr>\n",
       "      <td>min</td>\n",
       "      <td>0.000000</td>\n",
       "      <td>0.000000e+00</td>\n",
       "      <td>0.000000</td>\n",
       "      <td>0.000000</td>\n",
       "      <td>0.003500</td>\n",
       "      <td>0.000100</td>\n",
       "      <td>0.000000</td>\n",
       "      <td>0.004000</td>\n",
       "      <td>0.000000e+00</td>\n",
       "      <td>-2.398686e+06</td>\n",
       "      <td>0.003500</td>\n",
       "    </tr>\n",
       "    <tr>\n",
       "      <td>25%</td>\n",
       "      <td>5.150000</td>\n",
       "      <td>1.000000e+02</td>\n",
       "      <td>5.990000</td>\n",
       "      <td>100.000000</td>\n",
       "      <td>5.820000</td>\n",
       "      <td>5.800000</td>\n",
       "      <td>4.840000</td>\n",
       "      <td>5.840000</td>\n",
       "      <td>9.230000e+02</td>\n",
       "      <td>-3.730000e+03</td>\n",
       "      <td>5.820000</td>\n",
       "    </tr>\n",
       "    <tr>\n",
       "      <td>50%</td>\n",
       "      <td>21.000000</td>\n",
       "      <td>2.000000e+02</td>\n",
       "      <td>22.770000</td>\n",
       "      <td>200.000000</td>\n",
       "      <td>21.860000</td>\n",
       "      <td>21.840000</td>\n",
       "      <td>21.000000</td>\n",
       "      <td>21.900000</td>\n",
       "      <td>5.197000e+03</td>\n",
       "      <td>3.000000e+00</td>\n",
       "      <td>21.860000</td>\n",
       "    </tr>\n",
       "    <tr>\n",
       "      <td>75%</td>\n",
       "      <td>50.720000</td>\n",
       "      <td>9.830000e+02</td>\n",
       "      <td>52.680000</td>\n",
       "      <td>950.000000</td>\n",
       "      <td>51.800000</td>\n",
       "      <td>51.820000</td>\n",
       "      <td>51.960000</td>\n",
       "      <td>51.500000</td>\n",
       "      <td>1.896200e+04</td>\n",
       "      <td>2.443000e+03</td>\n",
       "      <td>51.520000</td>\n",
       "    </tr>\n",
       "    <tr>\n",
       "      <td>max</td>\n",
       "      <td>1437.000000</td>\n",
       "      <td>3.623700e+06</td>\n",
       "      <td>1630.800000</td>\n",
       "      <td>633852.000000</td>\n",
       "      <td>1437.000000</td>\n",
       "      <td>1435.000000</td>\n",
       "      <td>1435.000000</td>\n",
       "      <td>1765.060000</td>\n",
       "      <td>5.576209e+06</td>\n",
       "      <td>1.963809e+06</td>\n",
       "      <td>1435.000000</td>\n",
       "    </tr>\n",
       "  </tbody>\n",
       "</table>\n",
       "</div>"
      ],
      "text/plain": [
       "          Bid_Price    Bid_Shares     Ask_Price     Ask_Shares  FeaturePrice1  \\\n",
       "count  18349.000000  1.834900e+04  18349.000000   18349.000000   18349.000000   \n",
       "mean      50.471296  6.202762e+03     52.352993    2758.408306      51.356662   \n",
       "std      119.725228  9.696882e+04    121.453112   16388.481206     119.774833   \n",
       "min        0.000000  0.000000e+00      0.000000       0.000000       0.003500   \n",
       "25%        5.150000  1.000000e+02      5.990000     100.000000       5.820000   \n",
       "50%       21.000000  2.000000e+02     22.770000     200.000000      21.860000   \n",
       "75%       50.720000  9.830000e+02     52.680000     950.000000      51.800000   \n",
       "max     1437.000000  3.623700e+06   1630.800000  633852.000000    1437.000000   \n",
       "\n",
       "       FeaturePrice2  FeaturePrice3  FeaturePrice4  FeatureShares1  \\\n",
       "count   18349.000000   18349.000000   18349.000000    1.834900e+04   \n",
       "mean       51.339539      51.458448      51.329723    2.818459e+04   \n",
       "std       119.773831     120.622165     120.472698    1.070226e+05   \n",
       "min         0.000100       0.000000       0.004000    0.000000e+00   \n",
       "25%         5.800000       4.840000       5.840000    9.230000e+02   \n",
       "50%        21.840000      21.000000      21.900000    5.197000e+03   \n",
       "75%        51.820000      51.960000      51.500000    1.896200e+04   \n",
       "max      1435.000000    1435.000000    1765.060000    5.576209e+06   \n",
       "\n",
       "       FeatureShares2   TargetPrice  \n",
       "count    1.834900e+04  18349.000000  \n",
       "mean    -2.095334e+03     51.191086  \n",
       "std      6.337463e+04    119.735263  \n",
       "min     -2.398686e+06      0.003500  \n",
       "25%     -3.730000e+03      5.820000  \n",
       "50%      3.000000e+00     21.860000  \n",
       "75%      2.443000e+03     51.520000  \n",
       "max      1.963809e+06   1435.000000  "
      ]
     },
     "execution_count": 153,
     "metadata": {},
     "output_type": "execute_result"
    }
   ],
   "source": [
    "df.describe()"
   ]
  },
  {
   "cell_type": "code",
   "execution_count": 166,
   "metadata": {},
   "outputs": [
    {
     "name": "stdout",
     "output_type": "stream",
     "text": [
      "19\n"
     ]
    },
    {
     "data": {
      "image/png": "[encoded data removed]",
      "text/plain": [
       "<Figure size 432x288 with 1 Axes>"
      ]
     },
     "metadata": {
      "needs_background": "light"
     },
     "output_type": "display_data"
    }
   ],
   "source": [
    "sns.boxplot(df.Bid_Shares[df.Bid_Shares > 900000])\n",
    "print(len(df.Bid_Shares[df.Bid_Shares > 900000])) "
   ]
  },
  {
   "cell_type": "code",
   "execution_count": 167,
   "metadata": {},
   "outputs": [],
   "source": [
    "df = df.drop(index = df[df.Bid_Shares > 900000].index, axis = 0) # delete anomalies\n",
    "                                                                 # (in my opinion this values is unnormal)"
   ]
  },
  {
   "cell_type": "code",
   "execution_count": 168,
   "metadata": {},
   "outputs": [
    {
     "data": {
      "text/html": [
       "<div>\n",
       "<style scoped>\n",
       "    .dataframe tbody tr th:only-of-type {\n",
       "        vertical-align: middle;\n",
       "    }\n",
       "\n",
       "    .dataframe tbody tr th {\n",
       "        vertical-align: top;\n",
       "    }\n",
       "\n",
       "    .dataframe thead th {\n",
       "        text-align: right;\n",
       "    }\n",
       "</style>\n",
       "<table border=\"1\" class=\"dataframe\">\n",
       "  <thead>\n",
       "    <tr style=\"text-align: right;\">\n",
       "      <th></th>\n",
       "      <th>Bid_Price</th>\n",
       "      <th>Bid_Shares</th>\n",
       "      <th>Ask_Price</th>\n",
       "      <th>Ask_Shares</th>\n",
       "      <th>FeaturePrice1</th>\n",
       "      <th>FeaturePrice2</th>\n",
       "      <th>FeaturePrice3</th>\n",
       "      <th>FeaturePrice4</th>\n",
       "      <th>FeatureShares1</th>\n",
       "      <th>FeatureShares2</th>\n",
       "      <th>TargetPrice</th>\n",
       "    </tr>\n",
       "  </thead>\n",
       "  <tbody>\n",
       "    <tr>\n",
       "      <td>count</td>\n",
       "      <td>18330.000000</td>\n",
       "      <td>18330.000000</td>\n",
       "      <td>18330.000000</td>\n",
       "      <td>18330.000000</td>\n",
       "      <td>18330.000000</td>\n",
       "      <td>18330.000000</td>\n",
       "      <td>18330.000000</td>\n",
       "      <td>18330.000000</td>\n",
       "      <td>1.833000e+04</td>\n",
       "      <td>1.833000e+04</td>\n",
       "      <td>18330.000000</td>\n",
       "    </tr>\n",
       "    <tr>\n",
       "      <td>mean</td>\n",
       "      <td>50.523602</td>\n",
       "      <td>3223.212057</td>\n",
       "      <td>52.406925</td>\n",
       "      <td>2752.095690</td>\n",
       "      <td>51.409883</td>\n",
       "      <td>51.392744</td>\n",
       "      <td>51.511783</td>\n",
       "      <td>51.382918</td>\n",
       "      <td>2.821266e+04</td>\n",
       "      <td>-2.012082e+03</td>\n",
       "      <td>51.244137</td>\n",
       "    </tr>\n",
       "    <tr>\n",
       "      <td>std</td>\n",
       "      <td>119.776237</td>\n",
       "      <td>23266.107440</td>\n",
       "      <td>121.504486</td>\n",
       "      <td>16395.416103</td>\n",
       "      <td>119.825482</td>\n",
       "      <td>119.824487</td>\n",
       "      <td>120.673285</td>\n",
       "      <td>120.523786</td>\n",
       "      <td>1.070745e+05</td>\n",
       "      <td>6.298513e+04</td>\n",
       "      <td>119.785961</td>\n",
       "    </tr>\n",
       "    <tr>\n",
       "      <td>min</td>\n",
       "      <td>0.000000</td>\n",
       "      <td>0.000000</td>\n",
       "      <td>0.000000</td>\n",
       "      <td>0.000000</td>\n",
       "      <td>0.005000</td>\n",
       "      <td>0.000100</td>\n",
       "      <td>0.000000</td>\n",
       "      <td>0.004500</td>\n",
       "      <td>0.000000e+00</td>\n",
       "      <td>-2.398686e+06</td>\n",
       "      <td>0.003500</td>\n",
       "    </tr>\n",
       "    <tr>\n",
       "      <td>25%</td>\n",
       "      <td>5.200000</td>\n",
       "      <td>100.000000</td>\n",
       "      <td>6.002500</td>\n",
       "      <td>100.000000</td>\n",
       "      <td>5.880000</td>\n",
       "      <td>5.850000</td>\n",
       "      <td>4.870000</td>\n",
       "      <td>5.892500</td>\n",
       "      <td>9.330000e+02</td>\n",
       "      <td>-3.728750e+03</td>\n",
       "      <td>5.857500</td>\n",
       "    </tr>\n",
       "    <tr>\n",
       "      <td>50%</td>\n",
       "      <td>21.065000</td>\n",
       "      <td>200.000000</td>\n",
       "      <td>22.810000</td>\n",
       "      <td>200.000000</td>\n",
       "      <td>21.910000</td>\n",
       "      <td>21.900000</td>\n",
       "      <td>21.030000</td>\n",
       "      <td>21.930000</td>\n",
       "      <td>5.217000e+03</td>\n",
       "      <td>3.000000e+00</td>\n",
       "      <td>21.910000</td>\n",
       "    </tr>\n",
       "    <tr>\n",
       "      <td>75%</td>\n",
       "      <td>50.730000</td>\n",
       "      <td>960.000000</td>\n",
       "      <td>52.737500</td>\n",
       "      <td>930.000000</td>\n",
       "      <td>51.827500</td>\n",
       "      <td>51.850000</td>\n",
       "      <td>52.000000</td>\n",
       "      <td>51.527500</td>\n",
       "      <td>1.898175e+04</td>\n",
       "      <td>2.443000e+03</td>\n",
       "      <td>51.570000</td>\n",
       "    </tr>\n",
       "    <tr>\n",
       "      <td>max</td>\n",
       "      <td>1437.000000</td>\n",
       "      <td>863482.000000</td>\n",
       "      <td>1630.800000</td>\n",
       "      <td>633852.000000</td>\n",
       "      <td>1437.000000</td>\n",
       "      <td>1435.000000</td>\n",
       "      <td>1435.000000</td>\n",
       "      <td>1765.060000</td>\n",
       "      <td>5.576209e+06</td>\n",
       "      <td>1.963809e+06</td>\n",
       "      <td>1435.000000</td>\n",
       "    </tr>\n",
       "  </tbody>\n",
       "</table>\n",
       "</div>"
      ],
      "text/plain": [
       "          Bid_Price     Bid_Shares     Ask_Price     Ask_Shares  \\\n",
       "count  18330.000000   18330.000000  18330.000000   18330.000000   \n",
       "mean      50.523602    3223.212057     52.406925    2752.095690   \n",
       "std      119.776237   23266.107440    121.504486   16395.416103   \n",
       "min        0.000000       0.000000      0.000000       0.000000   \n",
       "25%        5.200000     100.000000      6.002500     100.000000   \n",
       "50%       21.065000     200.000000     22.810000     200.000000   \n",
       "75%       50.730000     960.000000     52.737500     930.000000   \n",
       "max     1437.000000  863482.000000   1630.800000  633852.000000   \n",
       "\n",
       "       FeaturePrice1  FeaturePrice2  FeaturePrice3  FeaturePrice4  \\\n",
       "count   18330.000000   18330.000000   18330.000000   18330.000000   \n",
       "mean       51.409883      51.392744      51.511783      51.382918   \n",
       "std       119.825482     119.824487     120.673285     120.523786   \n",
       "min         0.005000       0.000100       0.000000       0.004500   \n",
       "25%         5.880000       5.850000       4.870000       5.892500   \n",
       "50%        21.910000      21.900000      21.030000      21.930000   \n",
       "75%        51.827500      51.850000      52.000000      51.527500   \n",
       "max      1437.000000    1435.000000    1435.000000    1765.060000   \n",
       "\n",
       "       FeatureShares1  FeatureShares2   TargetPrice  \n",
       "count    1.833000e+04    1.833000e+04  18330.000000  \n",
       "mean     2.821266e+04   -2.012082e+03     51.244137  \n",
       "std      1.070745e+05    6.298513e+04    119.785961  \n",
       "min      0.000000e+00   -2.398686e+06      0.003500  \n",
       "25%      9.330000e+02   -3.728750e+03      5.857500  \n",
       "50%      5.217000e+03    3.000000e+00     21.910000  \n",
       "75%      1.898175e+04    2.443000e+03     51.570000  \n",
       "max      5.576209e+06    1.963809e+06   1435.000000  "
      ]
     },
     "execution_count": 168,
     "metadata": {},
     "output_type": "execute_result"
    }
   ],
   "source": [
    "df.describe()"
   ]
  },
  {
   "cell_type": "code",
   "execution_count": 174,
   "metadata": {},
   "outputs": [
    {
     "data": {
      "text/plain": [
       "<matplotlib.axes._subplots.AxesSubplot at 0x7f8beb2e48d0>"
      ]
     },
     "execution_count": 174,
     "metadata": {},
     "output_type": "execute_result"
    },
    {
     "data": {
      "image/png": "[encoded data removed]",
      "text/plain": [
       "<Figure size 432x288 with 1 Axes>"
      ]
     },
     "metadata": {
      "needs_background": "light"
     },
     "output_type": "display_data"
    }
   ],
   "source": [
    "sns.boxplot(df.Bid_Shares)"
   ]
  },
  {
   "cell_type": "code",
   "execution_count": 170,
   "metadata": {},
   "outputs": [
    {
     "data": {
      "text/plain": [
       "<matplotlib.axes._subplots.AxesSubplot at 0x7f8bead459d0>"
      ]
     },
     "execution_count": 170,
     "metadata": {},
     "output_type": "execute_result"
    },
    {
     "data": {
      "image/png": "[encoded data removed]",
      "text/plain": [
       "<Figure size 432x288 with 1 Axes>"
      ]
     },
     "metadata": {
      "needs_background": "light"
     },
     "output_type": "display_data"
    }
   ],
   "source": [
    "sns.boxplot(df.Ask_Shares)"
   ]
  },
  {
   "cell_type": "markdown",
   "metadata": {},
   "source": [
    "#### Preprocess FeatureShares1, FeatureShares2"
   ]
  },
  {
   "cell_type": "code",
   "execution_count": 175,
   "metadata": {},
   "outputs": [
    {
     "data": {
      "text/plain": [
       "<matplotlib.axes._subplots.AxesSubplot at 0x7f8beb272150>"
      ]
     },
     "execution_count": 175,
     "metadata": {},
     "output_type": "execute_result"
    },
    {
     "data": {
      "image/png": "[encoded data removed]",
      "text/plain": [
       "<Figure size 432x288 with 1 Axes>"
      ]
     },
     "metadata": {
      "needs_background": "light"
     },
     "output_type": "display_data"
    }
   ],
   "source": [
    "sns.distplot(df.FeatureShares1)"
   ]
  },
  {
   "cell_type": "code",
   "execution_count": 176,
   "metadata": {},
   "outputs": [
    {
     "data": {
      "text/plain": [
       "<matplotlib.axes._subplots.AxesSubplot at 0x7f8beb608410>"
      ]
     },
     "execution_count": 176,
     "metadata": {},
     "output_type": "execute_result"
    },
    {
     "data": {
      "image/png": "[encoded data removed]",
      "text/plain": [
       "<Figure size 432x288 with 1 Axes>"
      ]
     },
     "metadata": {
      "needs_background": "light"
     },
     "output_type": "display_data"
    }
   ],
   "source": [
    "sns.distplot(df.FeatureShares2)"
   ]
  },
  {
   "cell_type": "code",
   "execution_count": 177,
   "metadata": {},
   "outputs": [
    {
     "data": {
      "text/plain": [
       "array([[ 1.        , -0.04751832],\n",
       "       [-0.04751832,  1.        ]])"
      ]
     },
     "execution_count": 177,
     "metadata": {},
     "output_type": "execute_result"
    }
   ],
   "source": [
    "np.corrcoef(df.FeatureShares1, df.FeatureShares2)"
   ]
  },
  {
   "cell_type": "code",
   "execution_count": 178,
   "metadata": {},
   "outputs": [
    {
     "data": {
      "text/plain": [
       "array([[1.        , 0.45861946],\n",
       "       [0.45861946, 1.        ]])"
      ]
     },
     "execution_count": 178,
     "metadata": {},
     "output_type": "execute_result"
    }
   ],
   "source": [
    "np.corrcoef(df.FeatureShares1, np.abs(df.FeatureShares2))"
   ]
  },
  {
   "cell_type": "code",
   "execution_count": 179,
   "metadata": {},
   "outputs": [
    {
     "data": {
      "text/plain": [
       "<matplotlib.axes._subplots.AxesSubplot at 0x7f8c0874b550>"
      ]
     },
     "execution_count": 179,
     "metadata": {},
     "output_type": "execute_result"
    },
    {
     "data": {
      "image/png": "[encoded data removed]",
      "text/plain": [
       "<Figure size 432x288 with 1 Axes>"
      ]
     },
     "metadata": {
      "needs_background": "light"
     },
     "output_type": "display_data"
    }
   ],
   "source": [
    "sns.distplot(np.abs(df.FeatureShares2))"
   ]
  },
  {
   "cell_type": "code",
   "execution_count": 180,
   "metadata": {},
   "outputs": [
    {
     "data": {
      "text/plain": [
       "<matplotlib.axes._subplots.AxesSubplot at 0x7f8beb5b5e90>"
      ]
     },
     "execution_count": 180,
     "metadata": {},
     "output_type": "execute_result"
    },
    {
     "data": {
      "image/png": "[encoded data removed]",
      "text/plain": [
       "<Figure size 432x288 with 1 Axes>"
      ]
     },
     "metadata": {
      "needs_background": "light"
     },
     "output_type": "display_data"
    }
   ],
   "source": [
    "sns.boxplot(df.FeatureShares1) #looks for anomalies"
   ]
  },
  {
   "cell_type": "code",
   "execution_count": 183,
   "metadata": {},
   "outputs": [
    {
     "data": {
      "text/plain": [
       "<matplotlib.axes._subplots.AxesSubplot at 0x7f8bec27ae10>"
      ]
     },
     "execution_count": 183,
     "metadata": {},
     "output_type": "execute_result"
    },
    {
     "data": {
      "image/png": "[encoded data removed]",
      "text/plain": [
       "<Figure size 432x288 with 1 Axes>"
      ]
     },
     "metadata": {
      "needs_background": "light"
     },
     "output_type": "display_data"
    }
   ],
   "source": [
    "sns.boxplot(df.FeatureShares2) # honestly I didn’t understand why this feature has negative values\n",
    "                               # also I want to make \"abs()\" to this values, but I wasn't sure\n",
    "                               # if this is correct because\n",
    "                               # I didn't understand the real meaning of this feature"
   ]
  },
  {
   "cell_type": "code",
   "execution_count": 189,
   "metadata": {},
   "outputs": [],
   "source": [
    "df = df.drop(index = df[df.FeatureShares1 > 2300000].index, axis = 0) # drop anomalies"
   ]
  },
  {
   "cell_type": "code",
   "execution_count": 190,
   "metadata": {},
   "outputs": [
    {
     "data": {
      "text/html": [
       "<div>\n",
       "<style scoped>\n",
       "    .dataframe tbody tr th:only-of-type {\n",
       "        vertical-align: middle;\n",
       "    }\n",
       "\n",
       "    .dataframe tbody tr th {\n",
       "        vertical-align: top;\n",
       "    }\n",
       "\n",
       "    .dataframe thead th {\n",
       "        text-align: right;\n",
       "    }\n",
       "</style>\n",
       "<table border=\"1\" class=\"dataframe\">\n",
       "  <thead>\n",
       "    <tr style=\"text-align: right;\">\n",
       "      <th></th>\n",
       "      <th>Bid_Price</th>\n",
       "      <th>Bid_Shares</th>\n",
       "      <th>Ask_Price</th>\n",
       "      <th>Ask_Shares</th>\n",
       "      <th>FeaturePrice1</th>\n",
       "      <th>FeaturePrice2</th>\n",
       "      <th>FeaturePrice3</th>\n",
       "      <th>FeaturePrice4</th>\n",
       "      <th>FeatureShares1</th>\n",
       "      <th>FeatureShares2</th>\n",
       "      <th>TargetPrice</th>\n",
       "    </tr>\n",
       "  </thead>\n",
       "  <tbody>\n",
       "    <tr>\n",
       "      <td>count</td>\n",
       "      <td>18326.000000</td>\n",
       "      <td>18326.000000</td>\n",
       "      <td>18326.000000</td>\n",
       "      <td>18326.000000</td>\n",
       "      <td>18326.000000</td>\n",
       "      <td>18326.000000</td>\n",
       "      <td>18326.000000</td>\n",
       "      <td>18326.000000</td>\n",
       "      <td>1.832600e+04</td>\n",
       "      <td>1.832600e+04</td>\n",
       "      <td>18326.000000</td>\n",
       "    </tr>\n",
       "    <tr>\n",
       "      <td>mean</td>\n",
       "      <td>50.524562</td>\n",
       "      <td>3222.870730</td>\n",
       "      <td>52.408281</td>\n",
       "      <td>2751.391793</td>\n",
       "      <td>51.411021</td>\n",
       "      <td>51.393864</td>\n",
       "      <td>51.512929</td>\n",
       "      <td>51.383999</td>\n",
       "      <td>2.733409e+04</td>\n",
       "      <td>-2.079081e+03</td>\n",
       "      <td>51.245239</td>\n",
       "    </tr>\n",
       "    <tr>\n",
       "      <td>std</td>\n",
       "      <td>119.788216</td>\n",
       "      <td>23268.388254</td>\n",
       "      <td>121.516652</td>\n",
       "      <td>16396.574881</td>\n",
       "      <td>119.837460</td>\n",
       "      <td>119.836463</td>\n",
       "      <td>120.685360</td>\n",
       "      <td>120.535829</td>\n",
       "      <td>8.666960e+04</td>\n",
       "      <td>6.263156e+04</td>\n",
       "      <td>119.797937</td>\n",
       "    </tr>\n",
       "    <tr>\n",
       "      <td>min</td>\n",
       "      <td>0.000000</td>\n",
       "      <td>0.000000</td>\n",
       "      <td>0.000000</td>\n",
       "      <td>0.000000</td>\n",
       "      <td>0.005000</td>\n",
       "      <td>0.000100</td>\n",
       "      <td>0.000000</td>\n",
       "      <td>0.004500</td>\n",
       "      <td>0.000000e+00</td>\n",
       "      <td>-2.398686e+06</td>\n",
       "      <td>0.003500</td>\n",
       "    </tr>\n",
       "    <tr>\n",
       "      <td>25%</td>\n",
       "      <td>5.200000</td>\n",
       "      <td>100.000000</td>\n",
       "      <td>6.002500</td>\n",
       "      <td>100.000000</td>\n",
       "      <td>5.880000</td>\n",
       "      <td>5.850000</td>\n",
       "      <td>4.870000</td>\n",
       "      <td>5.892500</td>\n",
       "      <td>9.322500e+02</td>\n",
       "      <td>-3.729000e+03</td>\n",
       "      <td>5.857500</td>\n",
       "    </tr>\n",
       "    <tr>\n",
       "      <td>50%</td>\n",
       "      <td>21.055000</td>\n",
       "      <td>200.000000</td>\n",
       "      <td>22.810000</td>\n",
       "      <td>200.000000</td>\n",
       "      <td>21.905000</td>\n",
       "      <td>21.895000</td>\n",
       "      <td>21.030000</td>\n",
       "      <td>21.930000</td>\n",
       "      <td>5.213000e+03</td>\n",
       "      <td>3.000000e+00</td>\n",
       "      <td>21.905000</td>\n",
       "    </tr>\n",
       "    <tr>\n",
       "      <td>75%</td>\n",
       "      <td>50.730000</td>\n",
       "      <td>960.000000</td>\n",
       "      <td>52.720000</td>\n",
       "      <td>929.750000</td>\n",
       "      <td>51.815000</td>\n",
       "      <td>51.850000</td>\n",
       "      <td>52.000000</td>\n",
       "      <td>51.520000</td>\n",
       "      <td>1.897000e+04</td>\n",
       "      <td>2.441750e+03</td>\n",
       "      <td>51.570000</td>\n",
       "    </tr>\n",
       "    <tr>\n",
       "      <td>max</td>\n",
       "      <td>1437.000000</td>\n",
       "      <td>863482.000000</td>\n",
       "      <td>1630.800000</td>\n",
       "      <td>633852.000000</td>\n",
       "      <td>1437.000000</td>\n",
       "      <td>1435.000000</td>\n",
       "      <td>1435.000000</td>\n",
       "      <td>1765.060000</td>\n",
       "      <td>2.184752e+06</td>\n",
       "      <td>1.963809e+06</td>\n",
       "      <td>1435.000000</td>\n",
       "    </tr>\n",
       "  </tbody>\n",
       "</table>\n",
       "</div>"
      ],
      "text/plain": [
       "          Bid_Price     Bid_Shares     Ask_Price     Ask_Shares  \\\n",
       "count  18326.000000   18326.000000  18326.000000   18326.000000   \n",
       "mean      50.524562    3222.870730     52.408281    2751.391793   \n",
       "std      119.788216   23268.388254    121.516652   16396.574881   \n",
       "min        0.000000       0.000000      0.000000       0.000000   \n",
       "25%        5.200000     100.000000      6.002500     100.000000   \n",
       "50%       21.055000     200.000000     22.810000     200.000000   \n",
       "75%       50.730000     960.000000     52.720000     929.750000   \n",
       "max     1437.000000  863482.000000   1630.800000  633852.000000   \n",
       "\n",
       "       FeaturePrice1  FeaturePrice2  FeaturePrice3  FeaturePrice4  \\\n",
       "count   18326.000000   18326.000000   18326.000000   18326.000000   \n",
       "mean       51.411021      51.393864      51.512929      51.383999   \n",
       "std       119.837460     119.836463     120.685360     120.535829   \n",
       "min         0.005000       0.000100       0.000000       0.004500   \n",
       "25%         5.880000       5.850000       4.870000       5.892500   \n",
       "50%        21.905000      21.895000      21.030000      21.930000   \n",
       "75%        51.815000      51.850000      52.000000      51.520000   \n",
       "max      1437.000000    1435.000000    1435.000000    1765.060000   \n",
       "\n",
       "       FeatureShares1  FeatureShares2   TargetPrice  \n",
       "count    1.832600e+04    1.832600e+04  18326.000000  \n",
       "mean     2.733409e+04   -2.079081e+03     51.245239  \n",
       "std      8.666960e+04    6.263156e+04    119.797937  \n",
       "min      0.000000e+00   -2.398686e+06      0.003500  \n",
       "25%      9.322500e+02   -3.729000e+03      5.857500  \n",
       "50%      5.213000e+03    3.000000e+00     21.905000  \n",
       "75%      1.897000e+04    2.441750e+03     51.570000  \n",
       "max      2.184752e+06    1.963809e+06   1435.000000  "
      ]
     },
     "execution_count": 190,
     "metadata": {},
     "output_type": "execute_result"
    }
   ],
   "source": [
    "df.describe()"
   ]
  },
  {
   "cell_type": "code",
   "execution_count": 194,
   "metadata": {},
   "outputs": [
    {
     "data": {
      "text/html": [
       "<div>\n",
       "<style scoped>\n",
       "    .dataframe tbody tr th:only-of-type {\n",
       "        vertical-align: middle;\n",
       "    }\n",
       "\n",
       "    .dataframe tbody tr th {\n",
       "        vertical-align: top;\n",
       "    }\n",
       "\n",
       "    .dataframe thead th {\n",
       "        text-align: right;\n",
       "    }\n",
       "</style>\n",
       "<table border=\"1\" class=\"dataframe\">\n",
       "  <thead>\n",
       "    <tr style=\"text-align: right;\">\n",
       "      <th></th>\n",
       "      <th>Bid_Price</th>\n",
       "      <th>Bid_Shares</th>\n",
       "      <th>Ask_Price</th>\n",
       "      <th>Ask_Shares</th>\n",
       "      <th>FeaturePrice1</th>\n",
       "      <th>FeaturePrice2</th>\n",
       "      <th>FeaturePrice3</th>\n",
       "      <th>FeaturePrice4</th>\n",
       "      <th>FeatureShares1</th>\n",
       "      <th>FeatureShares2</th>\n",
       "      <th>TargetPrice</th>\n",
       "    </tr>\n",
       "  </thead>\n",
       "  <tbody>\n",
       "    <tr>\n",
       "      <td>Bid_Price</td>\n",
       "      <td>1.000000</td>\n",
       "      <td>-0.040881</td>\n",
       "      <td>0.986718</td>\n",
       "      <td>-0.046090</td>\n",
       "      <td>0.999507</td>\n",
       "      <td>0.999500</td>\n",
       "      <td>0.991027</td>\n",
       "      <td>0.993160</td>\n",
       "      <td>0.015792</td>\n",
       "      <td>0.004452</td>\n",
       "      <td>0.999695</td>\n",
       "    </tr>\n",
       "    <tr>\n",
       "      <td>Bid_Shares</td>\n",
       "      <td>-0.040881</td>\n",
       "      <td>1.000000</td>\n",
       "      <td>-0.042256</td>\n",
       "      <td>0.455668</td>\n",
       "      <td>-0.041795</td>\n",
       "      <td>-0.041776</td>\n",
       "      <td>-0.041708</td>\n",
       "      <td>-0.041645</td>\n",
       "      <td>0.051526</td>\n",
       "      <td>0.036018</td>\n",
       "      <td>-0.041641</td>\n",
       "    </tr>\n",
       "    <tr>\n",
       "      <td>Ask_Price</td>\n",
       "      <td>0.986718</td>\n",
       "      <td>-0.042256</td>\n",
       "      <td>1.000000</td>\n",
       "      <td>-0.047697</td>\n",
       "      <td>0.988008</td>\n",
       "      <td>0.987995</td>\n",
       "      <td>0.979314</td>\n",
       "      <td>0.981458</td>\n",
       "      <td>0.011430</td>\n",
       "      <td>0.004663</td>\n",
       "      <td>0.987912</td>\n",
       "    </tr>\n",
       "    <tr>\n",
       "      <td>Ask_Shares</td>\n",
       "      <td>-0.046090</td>\n",
       "      <td>0.455668</td>\n",
       "      <td>-0.047697</td>\n",
       "      <td>1.000000</td>\n",
       "      <td>-0.047142</td>\n",
       "      <td>-0.047113</td>\n",
       "      <td>-0.047181</td>\n",
       "      <td>-0.046926</td>\n",
       "      <td>0.083002</td>\n",
       "      <td>0.061748</td>\n",
       "      <td>-0.046954</td>\n",
       "    </tr>\n",
       "    <tr>\n",
       "      <td>FeaturePrice1</td>\n",
       "      <td>0.999507</td>\n",
       "      <td>-0.041795</td>\n",
       "      <td>0.988008</td>\n",
       "      <td>-0.047142</td>\n",
       "      <td>1.000000</td>\n",
       "      <td>0.999966</td>\n",
       "      <td>0.991601</td>\n",
       "      <td>0.993441</td>\n",
       "      <td>0.013819</td>\n",
       "      <td>0.004246</td>\n",
       "      <td>0.999884</td>\n",
       "    </tr>\n",
       "    <tr>\n",
       "      <td>FeaturePrice2</td>\n",
       "      <td>0.999500</td>\n",
       "      <td>-0.041776</td>\n",
       "      <td>0.987995</td>\n",
       "      <td>-0.047113</td>\n",
       "      <td>0.999966</td>\n",
       "      <td>1.000000</td>\n",
       "      <td>0.991636</td>\n",
       "      <td>0.993409</td>\n",
       "      <td>0.013808</td>\n",
       "      <td>0.004822</td>\n",
       "      <td>0.999858</td>\n",
       "    </tr>\n",
       "    <tr>\n",
       "      <td>FeaturePrice3</td>\n",
       "      <td>0.991027</td>\n",
       "      <td>-0.041708</td>\n",
       "      <td>0.979314</td>\n",
       "      <td>-0.047181</td>\n",
       "      <td>0.991601</td>\n",
       "      <td>0.991636</td>\n",
       "      <td>1.000000</td>\n",
       "      <td>0.987298</td>\n",
       "      <td>0.013182</td>\n",
       "      <td>0.007971</td>\n",
       "      <td>0.991659</td>\n",
       "    </tr>\n",
       "    <tr>\n",
       "      <td>FeaturePrice4</td>\n",
       "      <td>0.993160</td>\n",
       "      <td>-0.041645</td>\n",
       "      <td>0.981458</td>\n",
       "      <td>-0.046926</td>\n",
       "      <td>0.993441</td>\n",
       "      <td>0.993409</td>\n",
       "      <td>0.987298</td>\n",
       "      <td>1.000000</td>\n",
       "      <td>0.013765</td>\n",
       "      <td>0.004545</td>\n",
       "      <td>0.993548</td>\n",
       "    </tr>\n",
       "    <tr>\n",
       "      <td>FeatureShares1</td>\n",
       "      <td>0.015792</td>\n",
       "      <td>0.051526</td>\n",
       "      <td>0.011430</td>\n",
       "      <td>0.083002</td>\n",
       "      <td>0.013819</td>\n",
       "      <td>0.013808</td>\n",
       "      <td>0.013182</td>\n",
       "      <td>0.013765</td>\n",
       "      <td>1.000000</td>\n",
       "      <td>-0.098018</td>\n",
       "      <td>0.014209</td>\n",
       "    </tr>\n",
       "    <tr>\n",
       "      <td>FeatureShares2</td>\n",
       "      <td>0.004452</td>\n",
       "      <td>0.036018</td>\n",
       "      <td>0.004663</td>\n",
       "      <td>0.061748</td>\n",
       "      <td>0.004246</td>\n",
       "      <td>0.004822</td>\n",
       "      <td>0.007971</td>\n",
       "      <td>0.004545</td>\n",
       "      <td>-0.098018</td>\n",
       "      <td>1.000000</td>\n",
       "      <td>0.004555</td>\n",
       "    </tr>\n",
       "    <tr>\n",
       "      <td>TargetPrice</td>\n",
       "      <td>0.999695</td>\n",
       "      <td>-0.041641</td>\n",
       "      <td>0.987912</td>\n",
       "      <td>-0.046954</td>\n",
       "      <td>0.999884</td>\n",
       "      <td>0.999858</td>\n",
       "      <td>0.991659</td>\n",
       "      <td>0.993548</td>\n",
       "      <td>0.014209</td>\n",
       "      <td>0.004555</td>\n",
       "      <td>1.000000</td>\n",
       "    </tr>\n",
       "  </tbody>\n",
       "</table>\n",
       "</div>"
      ],
      "text/plain": [
       "                Bid_Price  Bid_Shares  Ask_Price  Ask_Shares  FeaturePrice1  \\\n",
       "Bid_Price        1.000000   -0.040881   0.986718   -0.046090       0.999507   \n",
       "Bid_Shares      -0.040881    1.000000  -0.042256    0.455668      -0.041795   \n",
       "Ask_Price        0.986718   -0.042256   1.000000   -0.047697       0.988008   \n",
       "Ask_Shares      -0.046090    0.455668  -0.047697    1.000000      -0.047142   \n",
       "FeaturePrice1    0.999507   -0.041795   0.988008   -0.047142       1.000000   \n",
       "FeaturePrice2    0.999500   -0.041776   0.987995   -0.047113       0.999966   \n",
       "FeaturePrice3    0.991027   -0.041708   0.979314   -0.047181       0.991601   \n",
       "FeaturePrice4    0.993160   -0.041645   0.981458   -0.046926       0.993441   \n",
       "FeatureShares1   0.015792    0.051526   0.011430    0.083002       0.013819   \n",
       "FeatureShares2   0.004452    0.036018   0.004663    0.061748       0.004246   \n",
       "TargetPrice      0.999695   -0.041641   0.987912   -0.046954       0.999884   \n",
       "\n",
       "                FeaturePrice2  FeaturePrice3  FeaturePrice4  FeatureShares1  \\\n",
       "Bid_Price            0.999500       0.991027       0.993160        0.015792   \n",
       "Bid_Shares          -0.041776      -0.041708      -0.041645        0.051526   \n",
       "Ask_Price            0.987995       0.979314       0.981458        0.011430   \n",
       "Ask_Shares          -0.047113      -0.047181      -0.046926        0.083002   \n",
       "FeaturePrice1        0.999966       0.991601       0.993441        0.013819   \n",
       "FeaturePrice2        1.000000       0.991636       0.993409        0.013808   \n",
       "FeaturePrice3        0.991636       1.000000       0.987298        0.013182   \n",
       "FeaturePrice4        0.993409       0.987298       1.000000        0.013765   \n",
       "FeatureShares1       0.013808       0.013182       0.013765        1.000000   \n",
       "FeatureShares2       0.004822       0.007971       0.004545       -0.098018   \n",
       "TargetPrice          0.999858       0.991659       0.993548        0.014209   \n",
       "\n",
       "                FeatureShares2  TargetPrice  \n",
       "Bid_Price             0.004452     0.999695  \n",
       "Bid_Shares            0.036018    -0.041641  \n",
       "Ask_Price             0.004663     0.987912  \n",
       "Ask_Shares            0.061748    -0.046954  \n",
       "FeaturePrice1         0.004246     0.999884  \n",
       "FeaturePrice2         0.004822     0.999858  \n",
       "FeaturePrice3         0.007971     0.991659  \n",
       "FeaturePrice4         0.004545     0.993548  \n",
       "FeatureShares1       -0.098018     0.014209  \n",
       "FeatureShares2        1.000000     0.004555  \n",
       "TargetPrice           0.004555     1.000000  "
      ]
     },
     "execution_count": 194,
     "metadata": {},
     "output_type": "execute_result"
    }
   ],
   "source": [
    "df.corr() # print corr table"
   ]
  },
  {
   "cell_type": "code",
   "execution_count": 195,
   "metadata": {},
   "outputs": [],
   "source": [
    "df.to_csv('cleaned_train_df.csv', index = False)"
   ]
  }
 ],
 "metadata": {
  "kernelspec": {
   "display_name": "Python 3",
   "language": "python",
   "name": "python3"
  },
  "language_info": {
   "codemirror_mode": {
    "name": "ipython",
    "version": 3
   },
   "file_extension": ".py",
   "mimetype": "text/x-python",
   "name": "python",
   "nbconvert_exporter": "python",
   "pygments_lexer": "ipython3",
   "version": "3.7.4"
  }
 },
 "nbformat": 4,
 "nbformat_minor": 2
}
